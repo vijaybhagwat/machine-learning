{
 "cells": [
  {
   "cell_type": "markdown",
   "metadata": {
    "id": "ZMkVU3wiTaLc"
   },
   "source": [
    "# What is NumPy?\n",
    "\n",
    "1. NumPy is a Python library used for working with arrays.\n",
    "\n",
    "2. It also has functions for working in domain of linear algebra, fourier transform, and matrices.\n",
    "\n",
    "3. NumPy was created in 2005 by Travis Oliphant. It is an open source project and you can use it freely.\n",
    "\n",
    "4. NumPy stands for Numerical Python.\n",
    "\n",
    "5. Numpy is a library for the Python programming language, adding support for large, multi-dimensional arrays and matrices, along with a large collection of\n",
    "\n",
    "high-level mathematical functions to operate on these arrays."
   ]
  },
  {
   "cell_type": "markdown",
   "metadata": {
    "id": "A3uB0V5mSLVH"
   },
   "source": [
    "# Why Use NumPy?\n",
    "\n",
    "1. In Python we have lists that serve the purpose of arrays, but they are slow to process.\n",
    "\n",
    "2. NumPy aims to provide an array object that is up to 50x faster than traditional Python lists.\n",
    "\n",
    "3. The array object in NumPy is called ndarray, it provides a lot of supporting functions that make working with ndarray very easy.\n",
    "\n",
    "4. Arrays are very frequently used in data science, where speed and resources are very important.\n",
    "\n",
    "5. NumPy arrays are stored at one continuous place in memory unlike lists, so processes can access and manipulate them very efficiently.This behavior is called\n",
    "\n",
    " locality of reference in computer science. This is the main reason why NumPy is faster than lists. Also it is optimized to work with latest CPU architectures.\n",
    "\n",
    " "
   ]
  },
  {
   "cell_type": "code",
   "execution_count": null,
   "metadata": {
    "id": "RrEMvS36gfDF"
   },
   "outputs": [],
   "source": [
    "pip install numpy       # prefered intaller programme"
   ]
  },
  {
   "cell_type": "code",
   "execution_count": 1,
   "metadata": {
    "id": "ieIp7jPVenMn"
   },
   "outputs": [],
   "source": [
    "import numpy "
   ]
  },
  {
   "cell_type": "code",
   "execution_count": 2,
   "metadata": {
    "id": "t4Jwp6Jze3DA"
   },
   "outputs": [
    {
     "name": "stdout",
     "output_type": "stream",
     "text": [
      "[1 2 3 4 5]\n"
     ]
    }
   ],
   "source": [
    "#creating an array\n",
    "import numpy\n",
    "\n",
    "arr = numpy.array([1, 2, 3, 4, 5])              ## convert python list into numpy arrays\n",
    "\n",
    "print(arr)"
   ]
  },
  {
   "cell_type": "code",
   "execution_count": 3,
   "metadata": {
    "id": "oPoDj1eOfD-4"
   },
   "outputs": [],
   "source": [
    "#NumPy is usually imported under the np alias.\n",
    "#[alias: In Python alias are an alternate name for referring to the same thing.]\n",
    "import numpy as np        #Now the NumPy package can be referred to as np instead of numpy."
   ]
  },
  {
   "cell_type": "code",
   "execution_count": 4,
   "metadata": {
    "id": "DnIc-KD1fxL3"
   },
   "outputs": [
    {
     "name": "stdout",
     "output_type": "stream",
     "text": [
      "[1 2 3 4 5]\n"
     ]
    }
   ],
   "source": [
    "import numpy as np\n",
    "\n",
    "arr = np.array([1, 2, 3, 4, 5])\n",
    "\n",
    "print(arr)"
   ]
  },
  {
   "cell_type": "code",
   "execution_count": 5,
   "metadata": {
    "colab": {
     "base_uri": "https://localhost:8080/"
    },
    "executionInfo": {
     "elapsed": 1275,
     "status": "ok",
     "timestamp": 1616498553640,
     "user": {
      "displayName": "Vijay Bhagwat",
      "photoUrl": "https://lh3.googleusercontent.com/a-/AOh14GjvOC2nPcN5TxFs3HomoPmr8m32ajw-l0UWMrex_A=s64",
      "userId": "00341087335317291686"
     },
     "user_tz": -330
    },
    "id": "tfk8M3ovf9Tk",
    "outputId": "cb63b581-04a2-4d7a-a2bb-5719448b9e46"
   },
   "outputs": [
    {
     "name": "stdout",
     "output_type": "stream",
     "text": [
      "1.20.1\n"
     ]
    }
   ],
   "source": [
    "import numpy as np\n",
    "\n",
    "print(np.__version__)             # to check the version of numpy\n"
   ]
  },
  {
   "cell_type": "markdown",
   "metadata": {
    "id": "0cLysiLoialo"
   },
   "source": [
    "#Creating Numpy Arrays\n",
    "\n",
    "1. Create NumPy Arrays from list, tuple or list of lists\n",
    "\n",
    "2. Create NumPy Arrays from a range of evenly spaced numbers using np.arrange().\n",
    "\n",
    "3. Create NumPy Array of zeros (0's) using np.zeros()\n",
    "\n",
    "4. Create 1D / 2D NumPy Array filled with ones (1's) using np.ones()\n",
    "\n",
    "5. Create NumPy Array of different shapes & initialize with identical values using numpy.full()\n",
    "\n",
    "6. Create NumPy Array with same sized samples over an interval in Python using numpy.linspace()\n",
    "\n",
    "7. Create a NumPy Array of bool value."
   ]
  },
  {
   "cell_type": "code",
   "execution_count": null,
   "metadata": {
    "id": "3iejXCZ7iwYt"
   },
   "outputs": [],
   "source": [
    "# command : np.array() : Create Numpy Array from list, tuple or list of lists in Python\n",
    "\n",
    "# Use : to create a Numpy Array from an another array like object in python like list or tuple etc or any nested sequence like list of list,\n",
    "\n",
    "# syntax : \n",
    "\n",
    "numpy.array(object, dtype=None, copy=True, order='K')\n",
    "\n",
    "#Arguments:   \n",
    "\n",
    "1. object is an array like object i.e. list or tuple or any nested sequence like list of list.\n",
    "\n",
    "2. dtype: (Optional) Data type of elements\n",
    "\n",
    "3. Other parameters are optional and has default values.\n",
    "\n",
    "#Returns:\n",
    "\n",
    "It returns a Numpy Array ."
   ]
  },
  {
   "cell_type": "code",
   "execution_count": 6,
   "metadata": {
    "id": "gEY4m8SElBvH"
   },
   "outputs": [
    {
     "name": "stdout",
     "output_type": "stream",
     "text": [
      "[1 2 3 4 5 6 7 8 9]\n",
      "[11 22 33 44 55 66 77 88]\n",
      "<class 'numpy.ndarray'>\n"
     ]
    }
   ],
   "source": [
    "#Create Numpy Array from a list\n",
    "#To create a Numpy Array from list just pass the list object to numpy.array() i.e.\n",
    "\n",
    "npArray = np.array([1,2,3,4,5,6,7,8,9])\n",
    "print(npArray)\n",
    "\n",
    "#Create Numpy Array from a tuple\n",
    "#Similar to above example, we can directly pass the tuple to the numpy.array() to create a Numpy Array object,\n",
    "\n",
    "npArray = np.array( (11,22,33,44,55,66,77,88 ) )\n",
    "print(npArray)\n",
    "print(type(npArray))              # to check type of the array"
   ]
  },
  {
   "cell_type": "code",
   "execution_count": 7,
   "metadata": {
    "colab": {
     "base_uri": "https://localhost:8080/"
    },
    "executionInfo": {
     "elapsed": 1318,
     "status": "ok",
     "timestamp": 1616498828857,
     "user": {
      "displayName": "Vijay Bhagwat",
      "photoUrl": "https://lh3.googleusercontent.com/a-/AOh14GjvOC2nPcN5TxFs3HomoPmr8m32ajw-l0UWMrex_A=s64",
      "userId": "00341087335317291686"
     },
     "user_tz": -330
    },
    "id": "qSEBB4gImMaB",
    "outputId": "293f52dd-7c62-4fa4-d53e-c156561d271c"
   },
   "outputs": [
    {
     "name": "stdout",
     "output_type": "stream",
     "text": [
      "Data Type of elements in  ndArray : \n",
      "int32\n"
     ]
    }
   ],
   "source": [
    "#Check the data type of elements in Numpy Array???\n",
    "#Numpy  Array has a member variable that tells about the datatype of elements in it i.e. ndarray.dtype.\n",
    "\n",
    "#We created the Numpy Array from the list or tuple. While creating numpy.array() will deduce the data type of the elements based on input passed.\n",
    "#But we can check the data type of Numpy Array elements i.e.\n",
    "\n",
    "print('Data Type of elements in  ndArray : ')\n",
    "npArray = np.array((11, 22, 33, 44, 55, 66, 77, 88))\n",
    "print(npArray.dtype)"
   ]
  },
  {
   "cell_type": "code",
   "execution_count": 8,
   "metadata": {
    "colab": {
     "base_uri": "https://localhost:8080/"
    },
    "executionInfo": {
     "elapsed": 1670,
     "status": "ok",
     "timestamp": 1616498857817,
     "user": {
      "displayName": "Vijay Bhagwat",
      "photoUrl": "https://lh3.googleusercontent.com/a-/AOh14GjvOC2nPcN5TxFs3HomoPmr8m32ajw-l0UWMrex_A=s64",
      "userId": "00341087335317291686"
     },
     "user_tz": -330
    },
    "id": "JeVAz4ih-1M1",
    "outputId": "aeb1b62e-f9ed-4ec9-a79b-b1b58eeb2653"
   },
   "outputs": [
    {
     "name": "stdout",
     "output_type": "stream",
     "text": [
      "Contents of the ndArray :  ['1' '2' '3' '4' '5' '6' '7' '8' '9']\n",
      "Type of the ndArray :  <U1\n"
     ]
    }
   ],
   "source": [
    "#Create a Numpy Array from a list with different data type\n",
    "#We can also pass the dtype as parameter in numpy.array(). In that case numpy.array() will not deduce the data type from passed elements, it convert them to passed data type.\n",
    "\n",
    "#For example pass the dtype as float with list of int i.e.\n",
    "\n",
    "# Create ndArray of float datatype from a list of int\n",
    "npArray = np.array([1, 2, 3, 4, 5, 6, 7, 8, 9] , dtype=str)\n",
    "print('Contents of the ndArray : ', npArray)\n",
    "print('Type of the ndArray : ', npArray.dtype)"
   ]
  },
  {
   "cell_type": "code",
   "execution_count": null,
   "metadata": {
    "id": "giuJJix4Ka8f"
   },
   "outputs": [],
   "source": []
  },
  {
   "cell_type": "markdown",
   "metadata": {
    "id": "PaK-sF5Rm1ey"
   },
   "source": [
    "#Dimensions in Arrays\n",
    "A dimension in arrays is one level of array depth (nested arrays).\n",
    "\n",
    "[nested array: are arrays that have arrays as their elements.]\n",
    "\n",
    "1. 0-D Arrays\n",
    "\n",
    "2. 1-D Arrays\n",
    "\n",
    "3. 2-D Arrays\n",
    "\n",
    "4. 3-D arrays\n",
    "\n",
    "5. higher dimension Arrays"
   ]
  },
  {
   "cell_type": "code",
   "execution_count": 9,
   "metadata": {
    "colab": {
     "base_uri": "https://localhost:8080/"
    },
    "executionInfo": {
     "elapsed": 1252,
     "status": "ok",
     "timestamp": 1616498898825,
     "user": {
      "displayName": "Vijay Bhagwat",
      "photoUrl": "https://lh3.googleusercontent.com/a-/AOh14GjvOC2nPcN5TxFs3HomoPmr8m32ajw-l0UWMrex_A=s64",
      "userId": "00341087335317291686"
     },
     "user_tz": -330
    },
    "id": "WjK3dkRH8DjZ",
    "outputId": "661e6ccf-a2a5-4d03-efdd-f5edeffc3970"
   },
   "outputs": [
    {
     "name": "stdout",
     "output_type": "stream",
     "text": [
      "42\n"
     ]
    }
   ],
   "source": [
    "#0-D Arrays\n",
    "#0-D arrays, or Scalars, are the elements in an array. Each value in an array is a 0-D array.\n",
    "\n",
    "import numpy as np\n",
    "\n",
    "arr = np.array(42)                #0-D array with value 42\n",
    "\n",
    "print(arr)"
   ]
  },
  {
   "cell_type": "code",
   "execution_count": 10,
   "metadata": {
    "colab": {
     "base_uri": "https://localhost:8080/"
    },
    "executionInfo": {
     "elapsed": 1503,
     "status": "ok",
     "timestamp": 1616498922918,
     "user": {
      "displayName": "Vijay Bhagwat",
      "photoUrl": "https://lh3.googleusercontent.com/a-/AOh14GjvOC2nPcN5TxFs3HomoPmr8m32ajw-l0UWMrex_A=s64",
      "userId": "00341087335317291686"
     },
     "user_tz": -330
    },
    "id": "iPO2r-V09a8Z",
    "outputId": "e5b3be72-8047-4c87-ba23-0b12953270e6"
   },
   "outputs": [
    {
     "name": "stdout",
     "output_type": "stream",
     "text": [
      "1-D array containing the values :\n",
      "[1 2 3 4 5]\n",
      "1D Numpy Array of given length and filled with zeros :\n",
      "[0. 0. 0. 0. 0.]\n",
      "<class 'numpy.ndarray'>\n",
      "Numpy array of zeros of integer data type :\n",
      "[0 0 0 0 0]\n",
      "1D Numpy Array of given length and filled with ones :\n",
      "[1. 1. 1. 1. 1.]\n",
      "umpy array with ones of integer data type :\n",
      "[1 1 1 1 1]\n"
     ]
    }
   ],
   "source": [
    "#1-D Arrays\n",
    "#An array that has 0-D arrays as its elements is called uni-dimensional or 1-D array.\n",
    "#These are the most common and basic arrays.\n",
    "#Example\n",
    "import numpy as np\n",
    "\n",
    "arr = np.array([1, 2, 3, 4, 5])                 # 1-D array containing the values 1,2,3,4,5:\n",
    "print('1-D array containing the values :')\n",
    "print(arr)\n",
    "\n",
    "#Create 1D Numpy Array of given length and filled with zeros\n",
    "# command : \n",
    "#Suppose we want to create a numpy array of five zeros (0s). For that we need to call the numpy.zeros() function with argument 5 i.e.\n",
    "\n",
    "arr = np.zeros(5)\n",
    "print('1D Numpy Array of given length and filled with zeros :')\n",
    "print(arr)\n",
    "print(type(arr))\n",
    "\n",
    "#Create Numpy array of zeros of integer data type\n",
    "#By default numpy.zeros() returns a numpy array of float zeros. But if we want to create a numpy array of zeros as integers, then we can pass the data type \n",
    "#too in the zeros() function. For example,\n",
    "\n",
    "arr = np.zeros(5, dtype=np.int64)\n",
    "print('Numpy array of zeros of integer data type :')\n",
    "print(arr) \n",
    "\n",
    "# command : np.ones() – Create 1D / 2D Numpy Array filled with ones (1’s)\n",
    "#[numpy.ones()\n",
    "#Python’s Numpy module provides a function to create a numpy array of given shape & type and filled with 1’s i.e,\n",
    "\n",
    "#numpy.ones(shape, dtype=float, order='C')\n",
    "#Arguments:\n",
    "\n",
    "#shape: Shape of the numpy array. Single integer or sequence of integers.\n",
    "#dtype: (Optional) Data type of elements. Default is float64.\n",
    "#order: (Optional) Order in which data is stored in multi-dimension array i.e. in row major(‘F’) or column major (‘C’). Default is ‘C’.\n",
    "\n",
    "#Returns:\n",
    "\n",
    "#It returns a numpy array of given shape but filled with ones.\n",
    "\n",
    "#Create 1D Numpy Array of given length and filled with ones\n",
    "#Suppose we want to create a numpy array of five ones (1s). For that we need to call the numpy.ones() function with argument 5 i.e.\n",
    "\n",
    "arr = np.ones(5)\n",
    "print('1D Numpy Array of given length and filled with ones :')\n",
    "print(arr)\n",
    "\n",
    "#Create numpy array with ones of integer data type\n",
    "#By default numpy.ones() returns a numpy array of float ones. But if we want to create a numpy array of ones as integers, then we can pass the data type too in the ones() function. For example,\n",
    "\n",
    "arr = np.ones(5, dtype=np.int64)\n",
    "print('umpy array with ones of integer data type :')\n",
    "print(arr)"
   ]
  },
  {
   "cell_type": "code",
   "execution_count": 11,
   "metadata": {
    "colab": {
     "base_uri": "https://localhost:8080/"
    },
    "executionInfo": {
     "elapsed": 3287,
     "status": "ok",
     "timestamp": 1616499287477,
     "user": {
      "displayName": "Vijay Bhagwat",
      "photoUrl": "https://lh3.googleusercontent.com/a-/AOh14GjvOC2nPcN5TxFs3HomoPmr8m32ajw-l0UWMrex_A=s64",
      "userId": "00341087335317291686"
     },
     "user_tz": -330
    },
    "id": "cBAzoK4N-XY-",
    "outputId": "510d0318-7e1d-4956-d756-5a57afca385a"
   },
   "outputs": [
    {
     "name": "stdout",
     "output_type": "stream",
     "text": [
      "[[77 88 99]\n",
      " [31 42 63]\n",
      " [11 22 33]]\n"
     ]
    }
   ],
   "source": [
    "#Create 1D Numpy Array from list of list\n",
    "#On passing a list of list to numpy.array() will create a 2D Numpy Array by default. But if we want to create a 1D numpy array from list of list then we need to merge lists of lists to a single list and then pass it to numpy.array() i.e.\n",
    "\n",
    "listOfLists = [[[77, 88, 99], [31, 42, 63], [11, 22, 33]]]\n",
    "\n",
    "npArray = np.array([ elem for singleList in listOfLists for elem in singleList])\n",
    "\n",
    "print(npArray)\n"
   ]
  },
  {
   "cell_type": "code",
   "execution_count": 12,
   "metadata": {
    "colab": {
     "base_uri": "https://localhost:8080/"
    },
    "executionInfo": {
     "elapsed": 1174,
     "status": "ok",
     "timestamp": 1616499155705,
     "user": {
      "displayName": "Vijay Bhagwat",
      "photoUrl": "https://lh3.googleusercontent.com/a-/AOh14GjvOC2nPcN5TxFs3HomoPmr8m32ajw-l0UWMrex_A=s64",
      "userId": "00341087335317291686"
     },
     "user_tz": -330
    },
    "id": "805OmDPH2tYC",
    "outputId": "cb3ec692-9501-4b29-bd52-07bb351d0518"
   },
   "outputs": [
    {
     "name": "stdout",
     "output_type": "stream",
     "text": [
      "[[77, 88, 99], [31, 42, 63], [11, 22, 33]]\n"
     ]
    }
   ],
   "source": [
    " for singleList in listOfLists :\n",
    "   print(singleList)"
   ]
  },
  {
   "cell_type": "code",
   "execution_count": 13,
   "metadata": {
    "colab": {
     "base_uri": "https://localhost:8080/"
    },
    "executionInfo": {
     "elapsed": 2602,
     "status": "ok",
     "timestamp": 1616499370685,
     "user": {
      "displayName": "Vijay Bhagwat",
      "photoUrl": "https://lh3.googleusercontent.com/a-/AOh14GjvOC2nPcN5TxFs3HomoPmr8m32ajw-l0UWMrex_A=s64",
      "userId": "00341087335317291686"
     },
     "user_tz": -330
    },
    "id": "S-t-3IPq_b3f",
    "outputId": "a6ca2d03-33ef-41f5-f6a4-f70f0e76cbf6"
   },
   "outputs": [
    {
     "name": "stdout",
     "output_type": "stream",
     "text": [
      "2-D array containing two arrays :\n",
      "[[1 2 3]\n",
      " [4 5 6]]\n",
      " two dimensional (2D) Numpy Array of zeros :\n",
      "[[0 0 0 0 0]\n",
      " [0 0 0 0 0]\n",
      " [0 0 0 0 0]\n",
      " [0 0 0 0 0]]\n",
      "two dimensional (2D) Numpy Array of ones :\n",
      "[[1 1 1 1 1]\n",
      " [1 1 1 1 1]\n",
      " [1 1 1 1 1]\n",
      " [1 1 1 1 1]]\n"
     ]
    }
   ],
   "source": [
    "#2-D Arrays\n",
    "#An array that has 1-D arrays as its elements is called a 2-D array.\n",
    "#These are often used to represent matrix or 2nd order tensors.\n",
    "#NumPy has a whole sub module dedicated towards matrix operations called numpy.mat\n",
    "\n",
    "\n",
    "\n",
    "import numpy as np\n",
    "\n",
    "arr = np.array([[1, 2, 3], [4, 5, 6]])            # 2-D array containing two arrays with the values 1,2,3 and 4,5,6:\n",
    "print('2-D array containing two arrays :')\n",
    "print(arr)\n",
    "\n",
    "\n",
    "#Create two dimensional (2D) Numpy Array of zeros\n",
    "#To create a multidimensional numpy array filled with zeros, we can pass a sequence of integers as the argument in zeros() function. For example, \n",
    "#to create a 2D numpy array or matrix of 4 rows and 5 columns filled with zeros, pass (4, 5) as argument in the zeros function.\n",
    "\n",
    "arr_2d = np.zeros( (4, 5) , dtype=np.int64)\n",
    "print(' two dimensional (2D) Numpy Array of zeros :')\n",
    "print(arr_2d)\n",
    "\n",
    "\n",
    "#Create two dimensional (2D) Numpy Array of ones\n",
    "#To create a multidimensional numpy array filled with ones, we can pass a sequence of integers as the argument in ones() function. For example, to create a 2D numpy array or matrix of 4 rows and 5 columns filled with ones, pass (4, 5) as argument in the ones() function.\n",
    "\n",
    "arr_2d = np.ones( (4, 5) , dtype=np.int64)\n",
    "print('two dimensional (2D) Numpy Array of ones :')\n",
    "print(arr_2d)"
   ]
  },
  {
   "cell_type": "code",
   "execution_count": null,
   "metadata": {
    "id": "jw5-zAe-_3in"
   },
   "outputs": [],
   "source": [
    "#Create 2D Numpy Array from a list of list\n",
    "#Suppose we want to create 2D Numpy Array like Matrix, we can do that by passing a nested sequence in numpy.array() i.e. list of list.\n",
    "#For example,\n",
    "\n",
    "\n",
    "npArray = np.array( [ [77, 88, 99] , [31,42,63] , [11,22,33]])        # Create 2D ndarray form list of list\n",
    "print('Contents of the ndArray : ')\n",
    "print(npArray)"
   ]
  },
  {
   "cell_type": "code",
   "execution_count": 14,
   "metadata": {
    "id": "TjtGIkdrAl-h"
   },
   "outputs": [
    {
     "name": "stdout",
     "output_type": "stream",
     "text": [
      "3-D array with two 2-D arrays :\n",
      "[[[1 2 3]\n",
      "  [4 5 6]]\n",
      "\n",
      " [[1 2 3]\n",
      "  [4 5 6]]]\n",
      "3D Numpy Array filled with zeros :\n",
      "[[[0 0 0 0 0]\n",
      "  [0 0 0 0 0]\n",
      "  [0 0 0 0 0]\n",
      "  [0 0 0 0 0]]\n",
      "\n",
      " [[0 0 0 0 0]\n",
      "  [0 0 0 0 0]\n",
      "  [0 0 0 0 0]\n",
      "  [0 0 0 0 0]]]\n",
      "3D Numpy Array filled with ones :\n",
      "[[[1 1 1 1 1]\n",
      "  [1 1 1 1 1]\n",
      "  [1 1 1 1 1]\n",
      "  [1 1 1 1 1]]\n",
      "\n",
      " [[1 1 1 1 1]\n",
      "  [1 1 1 1 1]\n",
      "  [1 1 1 1 1]\n",
      "  [1 1 1 1 1]]]\n"
     ]
    }
   ],
   "source": [
    "#3-D arrays\n",
    "#An array that has 2-D arrays (matrices) as its elements is called 3-D array.\n",
    "#These are often used to represent a 3rd order tensor. \n",
    "\n",
    "import numpy as np\n",
    "\n",
    "arr = np.array([[[1, 2, 3], [4, 5, 6]], [[1, 2, 3], [4, 5, 6]]])      \n",
    "#3-D array with two 2-D arrays, both containing two arrays with the values 1,2,3 and 4,5,6:\n",
    "print('3-D array with two 2-D arrays :')\n",
    "print(arr)\n",
    "\n",
    "\n",
    "#Create 3D Numpy Array filled with zeros\n",
    "#To create a 3D Numpy array filled with zeros, pass the dimensions as the argument in zeros() function. For example,\n",
    "\n",
    "arr_3d = np.zeros( (2, 4, 5) , dtype=np.int64)\n",
    "print('3D Numpy Array filled with zeros :')\n",
    "print(arr_3d)\n",
    "\n",
    "##Create 3D Numpy Array filled with ones\n",
    "#To create a 3D Numpy array filled with ones, pass the dimensions as the argument in ones() function. For example,\n",
    "\n",
    "arr_3d = np.ones( (2, 4, 5) , dtype=np.int64)\n",
    "print('3D Numpy Array filled with ones :')\n",
    "print(arr_3d)"
   ]
  },
  {
   "cell_type": "code",
   "execution_count": null,
   "metadata": {
    "colab": {
     "base_uri": "https://localhost:8080/"
    },
    "executionInfo": {
     "elapsed": 1177,
     "status": "ok",
     "timestamp": 1616499485387,
     "user": {
      "displayName": "Vijay Bhagwat",
      "photoUrl": "https://lh3.googleusercontent.com/a-/AOh14GjvOC2nPcN5TxFs3HomoPmr8m32ajw-l0UWMrex_A=s64",
      "userId": "00341087335317291686"
     },
     "user_tz": -330
    },
    "id": "IFgrG7ruA_oL",
    "outputId": "1179a46f-eafc-425e-d9d3-85a3659314f2"
   },
   "outputs": [
    {
     "name": "stdout",
     "output_type": "stream",
     "text": [
      "[[[[[1 2 3 4]]]]]\n",
      "number of dimensions : 5\n"
     ]
    }
   ],
   "source": [
    "#Higher Dimensional Arrays\n",
    "#An array can have any number of dimensions.\n",
    "#When the array is created, you can define the number of dimensions by using the ndmin argument.\n",
    "\n",
    "import numpy as np\n",
    "\n",
    "arr = np.array([[[[[1, 2, 3, 4]]]]], ndmin=3)       #an array with 5 dimensions \n",
    "\n",
    "print(arr)\n",
    "print('number of dimensions :', arr.ndim)"
   ]
  },
  {
   "cell_type": "code",
   "execution_count": 15,
   "metadata": {
    "colab": {
     "base_uri": "https://localhost:8080/"
    },
    "executionInfo": {
     "elapsed": 997,
     "status": "ok",
     "timestamp": 1616499539355,
     "user": {
      "displayName": "Vijay Bhagwat",
      "photoUrl": "https://lh3.googleusercontent.com/a-/AOh14GjvOC2nPcN5TxFs3HomoPmr8m32ajw-l0UWMrex_A=s64",
      "userId": "00341087335317291686"
     },
     "user_tz": -330
    },
    "id": "6_gzHunhBs0b",
    "outputId": "9c8b77aa-0cc0-42e9-9ccd-a9102be8b697"
   },
   "outputs": [
    {
     "name": "stdout",
     "output_type": "stream",
     "text": [
      "0\n",
      "1\n",
      "2\n",
      "3\n"
     ]
    }
   ],
   "source": [
    "#To Check Number of Dimensions\n",
    "#NumPy Arrays provides the ndim attribute that returns an integer that tells us how many dimensions the array have.\n",
    "\n",
    "\n",
    "import numpy as np\n",
    "\n",
    "a = np.array(42)\n",
    "b = np.array([1, 2, 3, 4, 5])\n",
    "c = np.array([[1, 2, 3], [4, 5, 6]])\n",
    "d = np.array([[[1, 2, 3], [4, 5, 6]], [[1, 2, 3], [4, 5, 6]]])\n",
    "\n",
    "print(a.ndim)\n",
    "print(b.ndim)\n",
    "print(c.ndim)\n",
    "print(d.ndim)"
   ]
  },
  {
   "cell_type": "code",
   "execution_count": 16,
   "metadata": {
    "id": "th2mobnhCUjF"
   },
   "outputs": [
    {
     "ename": "SyntaxError",
     "evalue": "invalid syntax (<ipython-input-16-be0353dddc45>, line 4)",
     "output_type": "error",
     "traceback": [
      "\u001b[1;36m  File \u001b[1;32m\"<ipython-input-16-be0353dddc45>\"\u001b[1;36m, line \u001b[1;32m4\u001b[0m\n\u001b[1;33m    numpy.arange([start, ]stop, [step, ]dtype=None)\u001b[0m\n\u001b[1;37m                          ^\u001b[0m\n\u001b[1;31mSyntaxError\u001b[0m\u001b[1;31m:\u001b[0m invalid syntax\n"
     ]
    }
   ],
   "source": [
    "#2. command : numpy.arange() : Create a Numpy Array of evenly spaced numbers in Python\n",
    "# Use :  how to create a Numpy array of evenly spaced numbers over a given interval using numpy.arrange().\n",
    "# Syntax : \n",
    "numpy.arange([start, ]stop, [step, ]dtype=None)\n",
    "\n",
    "#Arguments:\n",
    "\n",
    "#1. start : It’s the start value of range. It’s optional, if not provided default value be 0.\n",
    "\n",
    "#2. stop : End Value of range, array. It doesn’t include this value but it’s an end marker\n",
    "\n",
    "#3. step : Spacing between two adjacent values. It’s optional, if not provided default value be 1.\n",
    "\n",
    "#4. dtype : Data type of elements.If not provided will be deduced from other arguments.\n",
    "\n",
    "#This function returns an evenly spaced array of numbers from range start to stop -1 with equal intervals of step."
   ]
  },
  {
   "cell_type": "code",
   "execution_count": 17,
   "metadata": {
    "colab": {
     "base_uri": "https://localhost:8080/"
    },
    "executionInfo": {
     "elapsed": 1067,
     "status": "ok",
     "timestamp": 1616499588013,
     "user": {
      "displayName": "Vijay Bhagwat",
      "photoUrl": "https://lh3.googleusercontent.com/a-/AOh14GjvOC2nPcN5TxFs3HomoPmr8m32ajw-l0UWMrex_A=s64",
      "userId": "00341087335317291686"
     },
     "user_tz": -330
    },
    "id": "LXHDvVc4EHJz",
    "outputId": "1011023e-4d02-49b3-d53a-b1d750c87efb"
   },
   "outputs": [
    {
     "name": "stdout",
     "output_type": "stream",
     "text": [
      "containing numbers from 5 to 30 but at equal interval of 2 :\n",
      "[ 5  7  9 11 13 15 17 19 21 23 25 27 29]\n",
      "containing elements from 1 to 10 :\n",
      "[1 2 3 4 5 6 7 8 9]\n",
      "3. containing elements upto 20 :\n",
      "[ 0  1  2  3  4  5  6  7  8  9 10 11 12 13 14 15 16 17 18 19]\n"
     ]
    }
   ],
   "source": [
    "#Create a Numpy Array containing numbers from 5 to 30 but at equal interval of 2\n",
    "#Here, start of Interval is 5, Stop is 30 and Step is 2 i.e.\n",
    "# example \n",
    "import numpy as np\n",
    "# Start = 5, Stop = 30, Step Size = 2\n",
    "arr = np.arange(5, 30, 2)\n",
    "print('containing numbers from 5 to 30 but at equal interval of 2 :')\n",
    "print(arr)\n",
    "\n",
    "# 2. Example 2:\n",
    "\n",
    "#Create a Numpy Array containing elements from 1 to 10 with default interval i.e. 1\n",
    "#As step argument is option, so when it is not provided then it’s default value will be 1.\n",
    "\n",
    "import numpy as np\n",
    "# Start = 1, Stop = 10. As Step Size is not provided, so default value be 1\n",
    "arr = np.arange(1, 10)\n",
    "print('containing elements from 1 to 10 :')\n",
    "print(arr)\n",
    "\n",
    "\n",
    "#Example 3:\n",
    "\n",
    "#Create a Numpy Array containing elements up to 20 with default start and step size\n",
    "#As start & step arguments are optional, so when we don’t provide these arguments then there default value will be 0 & 1.\n",
    "#Let’s create a Numpy array with default start & step arguments,  stop of interval is 20 i.e.\n",
    "\n",
    "import numpy as np\n",
    "# Stop = 20. As Start and Step Size is not provided, so default value be 0 and 1 respectively\n",
    "arr = np.arange(20)\n",
    "print('3. containing elements upto 20 :')\n",
    "print(arr)"
   ]
  },
  {
   "cell_type": "code",
   "execution_count": 18,
   "metadata": {
    "colab": {
     "base_uri": "https://localhost:8080/"
    },
    "executionInfo": {
     "elapsed": 976,
     "status": "ok",
     "timestamp": 1616497185127,
     "user": {
      "displayName": "Vijay Bhagwat",
      "photoUrl": "https://lh3.googleusercontent.com/a-/AOh14GjvOC2nPcN5TxFs3HomoPmr8m32ajw-l0UWMrex_A=s64",
      "userId": "00341087335317291686"
     },
     "user_tz": -330
    },
    "id": "9oz0SD07GO76",
    "outputId": "f0226844-1e9f-4224-a736-7b9ee058aba6"
   },
   "outputs": [
    {
     "name": "stdout",
     "output_type": "stream",
     "text": [
      "1D Numpy Array of length 10 :\n",
      "[5 5 5 5 5 5 5 5 5 5]\n",
      "2D Numpy Array of 4 rows | 5 columns & all elements initialized with value 7 is :\n",
      "[[7 7 7 7 7]\n",
      " [7 7 7 7 7]\n",
      " [7 7 7 7 7]\n",
      " [7 7 7 7 7]]\n",
      "3D Numpy Array of shape (2,4,5) & all elements initialized with value 8 is :\n",
      "[[[8 8 8 8 8]\n",
      "  [8 8 8 8 8]\n",
      "  [8 8 8 8 8]\n",
      "  [8 8 8 8 8]]\n",
      "\n",
      " [[8 8 8 8 8]\n",
      "  [8 8 8 8 8]\n",
      "  [8 8 8 8 8]\n",
      "  [8 8 8 8 8]]]\n"
     ]
    }
   ],
   "source": [
    "# command : numpy.full(): Create Numpy Array of different shapes & initialize with identical values using numpy.full()\n",
    "\n",
    "# Use :how to create a Numpy Array of different shapes and initialized with same identical values using numpy.full().\n",
    "\n",
    "#numpy.full()\n",
    "\n",
    "#Python’s Numpy module provides a function to create a numpy array of given shape and all elements initialized with a given value,\n",
    "#syntax : numpy.full(shape, fill_value, dtype=None, order='C')\n",
    "\n",
    "#Arguments:\n",
    "#1. shape: Shape of the new array\n",
    "#2. fill_value : Intialization value\n",
    "#3. dtype : Data type of elements | Optional\n",
    "\n",
    "#Example 1:\n",
    "\n",
    "# Create a 1D Numpy Array of length 10 & all elements initialized with value 5\n",
    "arr = np.full(10, 5)\n",
    "print('1D Numpy Array of length 10 :')\n",
    "print(arr)\n",
    "# comment : Data Type of Contents of the Numpy Array : int32 , Shape of the Numpy Array : (10,)\n",
    "\n",
    "#Example 2:\n",
    "\n",
    "#Create a 2D Numpy Array of 4 rows & 5 columns. All intialized with value 7\n",
    "arr = np.full((4,5), 7)\n",
    "print('2D Numpy Array of 4 rows | 5 columns & all elements initialized with value 7 is :')\n",
    "print(arr)\n",
    "# comment : Data Type of Contents of the Numpy Array : int32 , Shape of the Numpy Array : (4,5)\n",
    "\n",
    "#Example 3:\n",
    "\n",
    "# Create a 3D Numpy array & all elements initialized with value 8\n",
    "arr = np.full((2,4,5), 8)\n",
    "print('3D Numpy Array of shape (2,4,5) & all elements initialized with value 8 is :')\n",
    "print(arr)"
   ]
  },
  {
   "cell_type": "code",
   "execution_count": 20,
   "metadata": {
    "id": "Vn3iBFhjQz64"
   },
   "outputs": [],
   "source": [
    "# command : Numpy.linspace():Create same sized samples over an interval\n",
    "\n",
    "#Use :  function to create a evenly spaced samples over a specified interval \n",
    "\n",
    "#syntax :\n",
    "\n",
    "#numpy.linspace(start, stop, num=50, endpoint=True, retstep=False, dtype=None)\n",
    "\n",
    "#Arguments:\n",
    "\n",
    "#start : It’s the start of Sequence / range.\n",
    "\n",
    "#stop : End Value of range, array doesn’t include this value but it’s an end marker\n",
    "\n",
    "#num : Numbers of samples to be generated. It’s optional, if not provided default value will be 50.\n",
    "\n",
    "#dtype : Data type of elements, if not provided will be deduced from other arguments.\n",
    "\n",
    "#It returns num number of evenly spaced samples over the range [start, stop)"
   ]
  },
  {
   "cell_type": "code",
   "execution_count": 21,
   "metadata": {
    "id": "qOKJVfBis2JI"
   },
   "outputs": [
    {
     "name": "stdout",
     "output_type": "stream",
     "text": [
      "5 evenly spaced samples in interval :\n",
      "[20. 30. 40. 50. 60.]\n",
      "<class 'numpy.ndarray'>\n",
      "[20 30 40 50 60]\n"
     ]
    }
   ],
   "source": [
    "#Example 1:\n",
    "import numpy as np\n",
    "# Create 5 evenly spaced samples in interval [20, 60}\n",
    "arr = np.linspace(20,60, 5)\n",
    "print('5 evenly spaced samples in interval :')\n",
    "print(arr)\n",
    "print(type(arr))\n",
    "# OR\n",
    "#Create 5 evenly spaced int samples in interval [20, 60}\n",
    "arr = np.linspace(20, 60, 5 , dtype=np.int32)         # for integer type data \n",
    "print(arr)"
   ]
  },
  {
   "cell_type": "code",
   "execution_count": 22,
   "metadata": {
    "id": "vQ0lQtTfOXwq"
   },
   "outputs": [
    {
     "name": "stdout",
     "output_type": "stream",
     "text": [
      "Contents of the Numpy Array : \n",
      "[20. 30. 40. 50. 60.]\n",
      "Step size between two elements  :  10.0\n"
     ]
    }
   ],
   "source": [
    "#Example 2:\n",
    "\n",
    "#Get the Step size from numpy.linspace()\n",
    "#If we pass the argument retstep=True in numpy.linspace() then it will return step size between samples too along with the Numpy array of samples\n",
    "#Create evenly spaced samples in interval [20, 60} and also get the step size\n",
    "arr , step = np.linspace(20, 60, 5, retstep=True)\n",
    "print('Contents of the Numpy Array : ')\n",
    "print(arr)\n",
    "print('Step size between two elements  : ', step)"
   ]
  },
  {
   "cell_type": "code",
   "execution_count": 23,
   "metadata": {
    "id": "Uo_dppQ5u5fK"
   },
   "outputs": [
    {
     "ename": "SyntaxError",
     "evalue": "invalid syntax (<ipython-input-23-6c632fbbf451>, line 6)",
     "output_type": "error",
     "traceback": [
      "\u001b[1;36m  File \u001b[1;32m\"<ipython-input-23-6c632fbbf451>\"\u001b[1;36m, line \u001b[1;32m6\u001b[0m\n\u001b[1;33m    Arguments:\u001b[0m\n\u001b[1;37m              ^\u001b[0m\n\u001b[1;31mSyntaxError\u001b[0m\u001b[1;31m:\u001b[0m invalid syntax\n"
     ]
    }
   ],
   "source": [
    "#Create boolean Numpy array with all True or all False or random boolean values\n",
    "#Create boolean Numpy array with random boolean values\n",
    "#To create a boolean numpy array with random values use a function random.choice() from python’s numpy module,\n",
    "numpy.random.choice(a, size=None, replace=True, p=None)\n",
    "\n",
    "Arguments:\n",
    "a: A Numpy array from which random sample will be generated\n",
    "size : Shape of the array to be generated\n",
    "replace : Whether the sample is with or without replacement\n"
   ]
  },
  {
   "cell_type": "code",
   "execution_count": 24,
   "metadata": {
    "id": "zjeByvQO1UXW"
   },
   "outputs": [
    {
     "name": "stdout",
     "output_type": "stream",
     "text": [
      "Numpy Array: \n",
      "[ True  True  True False False False  True False False  True]\n",
      "2D Numpy Array: \n",
      "[[False False False  True]\n",
      " [False False  True False]\n",
      " [ True False  True  True]]\n",
      "Numpy Array with all true values : \n",
      "[ True  True  True  True  True  True  True  True  True  True]\n",
      "Numpy Array with all false values: \n",
      "[False False False False False False False False False False]\n",
      "2D Numpy Array with all true values: \n",
      "[[ True  True  True  True]\n",
      " [ True  True  True  True]\n",
      " [ True  True  True  True]]\n",
      "2D Numpy Array with all false values: \n",
      "[[False False False False]\n",
      " [False False False False]\n",
      " [False False False False]]\n",
      "Convert a list of integers to boolean numpy array: \n",
      "[ True  True  True False  True False  True False]\n",
      "[ True False  True False  True]\n"
     ]
    }
   ],
   "source": [
    "#create a boolean numpy array of size 10 with random bool values,\n",
    "# Array for random sampling\n",
    "sample_arr = [True, False]              # create boolen arrays with true and false then passed to function\n",
    "# Create a numpy array with random True or False of size 10\n",
    "bool_arr = np.random.choice(sample_arr, size=10)\n",
    "print('Numpy Array: ')\n",
    "print(bool_arr)\n",
    "\n",
    "#Creating 2D boolean Numpy array with random values\n",
    "#To create a 2D boolean Numpy array with random True or false values, we can use the same function by passing the size of 2D array as a tuple,\n",
    "# Array for random sampling\n",
    "sample_arr = [True, False]\n",
    "# Create a 2D numpy array or matrix of 3 rows & 4 columns with random True or False values\n",
    "bool_arr = np.random.choice(sample_arr, size=(3,4))\n",
    "print('2D Numpy Array: ')\n",
    "print(bool_arr)\n",
    "\n",
    "\n",
    "#To Create a boolean numpy array with all True values, we can use numpy.ones() with dtype argument as bool,\n",
    "# Create a Numpy array of 10 True values\n",
    "bool_arr = np.ones(10, dtype=bool)              #Create a Bool array with all True\n",
    "print('Numpy Array with all true values : ')\n",
    "print(bool_arr)\n",
    "\n",
    "#To Create a boolean numpy array with all False values, we can use numpy.zeros() with dtype argument as bool,\n",
    "# Create a Numpy array of 10 False values\n",
    "bool_arr = np.zeros(10, dtype=bool)\n",
    "print('Numpy Array with all false values: ')\n",
    "print(bool_arr)\n",
    "\n",
    "# Create a 2D Numpy array of 3 rows & 4 columns with all True values\n",
    "bool_arr = np.ones((3,4), dtype=bool)\n",
    "print('2D Numpy Array with all true values: ')\n",
    "print(bool_arr)\n",
    "\n",
    "# Create a 2D Numpy array of 3 rows & 4 columns with all False values\n",
    "bool_arr = np.zeros((3,4), dtype=bool)\n",
    "print('2D Numpy Array with all false values: ')\n",
    "print(bool_arr)\n",
    "\n",
    "#Convert a list of integers to boolean numpy array\n",
    "# List of integers\n",
    "list_of_elems = [1, 2, 3, 0, 9, 0, 8, 0]\n",
    "# Convert a list of integers to bool array\n",
    "bool_arr = np.array(list_of_elems, dtype=bool)\n",
    "print('Convert a list of integers to boolean numpy array: ')\n",
    "print(bool_arr)\n",
    "\n",
    "\n",
    "#Convert a heterogeneous list to boolean numpy array\n",
    "\n",
    "#Lists are heterogeneous in python. It means it can contain elements of different data types. But Numpy Arrays in python are homogeneous, it means they can contain elements of the same data type. So, to convert a heterogeneous list to boolean numpy array, we will pass dtype argument as bool in the numpy.array() function,\n",
    "# heterogeneous List ( contains different type of elements)\n",
    "list_of_elems = [8, 0, 'Hi', '', 0.4]\n",
    "# Convert a heterogeneous list to bool numpy array\n",
    "bool_arr = np.array(list_of_elems, dtype=bool)\n",
    "print(bool_arr)\n"
   ]
  },
  {
   "cell_type": "markdown",
   "metadata": {
    "id": "FBhTL6nt7C16"
   },
   "source": [
    "# Adding Elements in Numpy Array\n",
    "\n",
    "1. Append/ Add an element to Numpy Array in Python (3 Ways)\n",
    "\n",
    "2. How to append elements at the end of a Numpy Array in Python using numpy.append()\n",
    "\n",
    "3. Create an empty 2D Numpy Array / matrix and append rows or columns in python"
   ]
  },
  {
   "cell_type": "markdown",
   "metadata": {
    "id": "meFdjEOt7l72"
   },
   "source": [
    "#1.  Append/ Add an element to Numpy Array in using \n",
    "\n",
    "1.append() : to add an element to Numpy Array.\n",
    "\n",
    "2.concatenate() to add an element to Numpy Array.\n",
    "\n"
   ]
  },
  {
   "cell_type": "code",
   "execution_count": 25,
   "metadata": {
    "colab": {
     "base_uri": "https://localhost:8080/"
    },
    "executionInfo": {
     "elapsed": 964,
     "status": "ok",
     "timestamp": 1615981404289,
     "user": {
      "displayName": "Vijay Bhagwat",
      "photoUrl": "https://lh3.googleusercontent.com/a-/AOh14GjvOC2nPcN5TxFs3HomoPmr8m32ajw-l0UWMrex_A=s64",
      "userId": "00341087335317291686"
     },
     "user_tz": -330
    },
    "id": "G3S1SOLX_NwE",
    "outputId": "e11a40fa-cfc8-4663-f068-c44dd18adef2"
   },
   "outputs": [
    {
     "name": "stdout",
     "output_type": "stream",
     "text": [
      "New Array:  [11  2  6  7  2 10]\n",
      "Original Array:  [11  2  6  7  2]\n",
      "New Array:  [11  2  6  7  2 10]\n",
      "Original Array:  [11  2  6  7  2]\n"
     ]
    }
   ],
   "source": [
    "#Add element to Numpy Array using append()\n",
    "#Numpy module in python, provides a function to numpy.append() to add an element in a numpy array. We can pass the numpy array and a single value as arguments to the append() function. It doesn’t modifies the existing array, but returns a copy of the passed array with given value added to it. For example,\n",
    "\n",
    "import numpy as np\n",
    "# Create a Numpy Array of integers\n",
    "arr = np.array([11, 2, 6, 7, 2])\n",
    "# Add / Append an element at the end of a numpy array\n",
    "new_arr = np.append(arr, 10)\n",
    "print('New Array: ', new_arr)\n",
    "print('Original Array: ', arr)\n",
    "\n",
    "#Add element to Numpy Array using concatenate()\n",
    "#Numpy module in python, provides a function numpy.concatenate() to join two or more arrays. We can use that to add single element in numpy array. But for that we need to encapsulate the single value in a sequence data structure like list and pass a tuple of array & list to the concatenate() function. For example,\n",
    "\n",
    "import numpy as np\n",
    "# Create a Numpy Array of integers\n",
    "arr = np.array([11, 2, 6, 7, 2])\n",
    "# Add / Append an element at the end of a numpy array\n",
    "new_arr = np.concatenate( (arr, [10] ) )\n",
    "print('New Array: ', new_arr)\n",
    "print('Original Array: ', arr)"
   ]
  },
  {
   "cell_type": "code",
   "execution_count": 26,
   "metadata": {
    "id": "Td_Zswp_DyDe"
   },
   "outputs": [
    {
     "ename": "SyntaxError",
     "evalue": "invalid syntax (<ipython-input-26-675ebad3ddb1>, line 4)",
     "output_type": "error",
     "traceback": [
      "\u001b[1;36m  File \u001b[1;32m\"<ipython-input-26-675ebad3ddb1>\"\u001b[1;36m, line \u001b[1;32m4\u001b[0m\n\u001b[1;33m    Arguments:\u001b[0m\n\u001b[1;37m              ^\u001b[0m\n\u001b[1;31mSyntaxError\u001b[0m\u001b[1;31m:\u001b[0m invalid syntax\n"
     ]
    }
   ],
   "source": [
    "# command : numpy.append(): \n",
    "#syntax :\n",
    "numpy.append(arr, values, axis=None)\n",
    "Arguments:\n",
    "\n",
    "arr: array_like , Given values will be added in copy of this array.\n",
    "\n",
    "values: array_like , Values that needs to be added in the array.\n",
    "If axis is provided, then values to be added must be of similar shape as array arr along the axis where we want to add.\n",
    "\n",
    "axis: int, optional\n",
    "The axis along which values will be added to array. Default value is None.\n",
    "If axis is None: Then values array will be flattened and added to the array arr.\n",
    "If axis is 0, then values will be appended row wise.\n",
    "If axis is 1, then values will be appended column wise.\n",
    "Returns:\n",
    "\n",
    "A copy of the given array arr, with values appended to the array."
   ]
  },
  {
   "cell_type": "code",
   "execution_count": 27,
   "metadata": {
    "id": "MFEFQ0b8ErCP"
   },
   "outputs": [
    {
     "name": "stdout",
     "output_type": "stream",
     "text": [
      "Append a single element at the end of Numpy Array:\n",
      "[ 1  2  3  4  5  6  7 88]\n",
      "Append elements from a list to the Numpy array:\n",
      "[  1   2   3   4   5   6   7  88  99 100]\n",
      "Flatten 2D Numpy Array and added items to it :\n",
      "[ 1  2  3  4  5  6 22 23 24]\n",
      "Create two 2D Numpy Array like Matrix:\n",
      "[[ 1  2  3 70 80 90]\n",
      " [ 4  5  6 61 62 63]]\n",
      "[[ 1  2  3 70 80 90]\n",
      " [ 4  5  6 61 62 63]]\n"
     ]
    }
   ],
   "source": [
    "#Append elements at the end of 1D numpy array\n",
    "\n",
    "import numpy as np\n",
    "# create a Numpy array from a list\n",
    "arr = np.array([1, 2, 3, 4, 5, 6, 7])\n",
    "# Append a single element at the end of Numpy Array\n",
    "newArr = np.append(arr, 88)\n",
    "print('Append a single element at the end of Numpy Array:')\n",
    "print(newArr)\n",
    "\n",
    "\n",
    "import numpy as np\n",
    "# create a Numpy array from a list\n",
    "arr = np.array([1, 2, 3, 4, 5, 6, 7])\n",
    "# Append multiple elements from a list to the end of a Numpy Array\n",
    "newArr = np.append(arr, [88,99,100])\n",
    "print('Append elements from a list to the Numpy array:')\n",
    "print(newArr)\n",
    "\n",
    "\n",
    "import numpy as np\n",
    "# Create a 2D Numpy Array like Matrix\n",
    "matrixArr = np.array( [ [1, 2, 3],\n",
    "                        [ 4, 5, 6] ])\n",
    "#Now append 1D list to this 2D Numpy array.\n",
    "# Add elements in List to 2D Numpy array by flattening\n",
    "newArr = np.append(matrixArr, [22, 23, 24])\n",
    "print('Flatten 2D Numpy Array and added items to it :')\n",
    "print(newArr)\n",
    "\n",
    "\n",
    "#If we provide axis parameter in append() call then both the arrays should be of same shape. Let’s create two 2D numpy arrays,\n",
    "\n",
    "import numpy as np\n",
    "# Create two 2D Numpy Array like Matrix\n",
    "matrixArr1 = np.array([[1, 2, 3],\n",
    "                        [4, 5, 6]])\n",
    "matrixArr2 = np.array([[70, 80, 90],\n",
    "                         [61, 62, 63]])\n",
    "newArr = np.append(matrixArr1, matrixArr2 , axis=1)\n",
    "print('Create two 2D Numpy Array like Matrix:')\n",
    "print(newArr)\n",
    "\n",
    "\n",
    "#Add a NumPy Array to another array – Column Wise\n",
    "#In the above example if instead of passing axis as 0 we pass axis=1 then contents of 2D array matrixArr2 will be appended to the contents of matrixArr1  as columns in new array i.e.\n",
    "\n",
    "import numpy as np\n",
    "# Create two 2D Numpy Array like Matrix\n",
    "matrixArr1 = np.array([[1, 2, 3],\n",
    "                        [4, 5, 6]])\n",
    "matrixArr2 = np.array([[70, 80, 90],\n",
    "                         [61, 62, 63]])\n",
    "newArr = np.append(matrixArr1, matrixArr2 , axis=1)\n",
    "print(newArr)\n",
    "\n",
    "\n"
   ]
  },
  {
   "cell_type": "code",
   "execution_count": 28,
   "metadata": {
    "id": "D7q76GQhJIiY"
   },
   "outputs": [
    {
     "ename": "SyntaxError",
     "evalue": "invalid syntax (<ipython-input-28-539d8d739781>, line 11)",
     "output_type": "error",
     "traceback": [
      "\u001b[1;36m  File \u001b[1;32m\"<ipython-input-28-539d8d739781>\"\u001b[1;36m, line \u001b[1;32m11\u001b[0m\n\u001b[1;33m    It accepts shape and data type as arguments. Then returns a new array of given shape and data type but without initializing entries.\u001b[0m\n\u001b[1;37m       ^\u001b[0m\n\u001b[1;31mSyntaxError\u001b[0m\u001b[1;31m:\u001b[0m invalid syntax\n"
     ]
    }
   ],
   "source": [
    "# command : numpy.empty(): Create an empty 2D Numpy Array / matrix and append rows or columns\n",
    "# Use : how to create an empty matrix or 2D numpy array first using numpy.empty() and then append individual rows or columns to this matrix using numpy.append().\n",
    "# it creates a copy of the given numpy array arr and then appends the numpy array values to it along the given axis. \n",
    "#Then it returns this new array i.e. copy of arr but with appended values.\n",
    "# syntax :\n",
    "\n",
    "numpy.empty()\n",
    "\n",
    "numpy.empty(shape, dtype=float, order='C')\n",
    "\n",
    "It accepts shape and data type as arguments. Then returns a new array of given shape and data type but without initializing entries.\n",
    "\n",
    "#numpy.append()\n",
    "numpy.append(arr, values, axis=None)\n",
    "\n",
    "It accepts following arguments,\n",
    "arr: copy of array in which value needs to be appended\n",
    "values: array which needs to be appended on any axis, It must be of same shape as arr.\n",
    "axis: Axis along which values need to be appended. To append as row axis is 0, whereas to append as column it is 1."
   ]
  },
  {
   "cell_type": "code",
   "execution_count": 29,
   "metadata": {
    "colab": {
     "base_uri": "https://localhost:8080/"
    },
    "executionInfo": {
     "elapsed": 1122,
     "status": "ok",
     "timestamp": 1615984890885,
     "user": {
      "displayName": "Vijay Bhagwat",
      "photoUrl": "https://lh3.googleusercontent.com/a-/AOh14GjvOC2nPcN5TxFs3HomoPmr8m32ajw-l0UWMrex_A=s64",
      "userId": "00341087335317291686"
     },
     "user_tz": -330
    },
    "id": "YtvUncx9LCTx",
    "outputId": "4358a784-58a2-4c20-c689-81c7ddc9f722"
   },
   "outputs": [
    {
     "name": "stdout",
     "output_type": "stream",
     "text": [
      "Empty 2D Numpy array:\n",
      "[]\n",
      "Append 2nd rows to the 2D Numpy array:\n",
      "[[11 21 31 41]\n",
      " [15 25 35 45]]\n",
      "multiple rows to an empty 2D Numpy array:\n",
      "[[11 21 31 41]\n",
      " [15 25 35 45]\n",
      " [16 26 36 46]\n",
      " [17 27 37 47]]\n",
      "Empty 2D Numpy array:\n",
      "[]\n",
      "2D Numpy array:\n",
      "[[11]\n",
      " [21]\n",
      " [31]\n",
      " [41]]\n",
      "2D Numpy array:\n",
      "[[11 15]\n",
      " [21 25]\n",
      " [31 35]\n",
      " [41 45]]\n",
      "2D Numpy array:\n",
      "[[16 17]\n",
      " [26 27]\n",
      " [36 37]\n",
      " [46 47]]\n"
     ]
    }
   ],
   "source": [
    "#Create Empty Numpy array and append rows\n",
    "# Create an empty Numpy array with 4 columns or 0 rows\n",
    "empty_array = np.empty((0, 4), int)\n",
    "print('Empty 2D Numpy array:')\n",
    "print(empty_array)\n",
    "\n",
    "#Now to append a new row to this empty 2D Numpy array, we can use the numpy.append(). But we need to pass the row as a numpy array of same shape only, \n",
    "#and pass axis=0, so that it can be appended along the column,\n",
    "# Append a row to the 2D numpy array\n",
    "empty_array = np.append(empty_array, np.array([[11, 21, 31, 41]]), axis=0)\n",
    "# Append 2nd rows to the 2D Numpy array\n",
    "empty_array = np.append(empty_array, np.array([[15, 25, 35, 45]]), axis=0)\n",
    "print('Append 2nd rows to the 2D Numpy array:')\n",
    "print(empty_array)\n",
    "\n",
    "\n",
    "#Add multiple rows to an empty 2D Numpy array\n",
    "#To add multiple rows to an 2D Numpy array, combine the rows in a same shape numpy array and then append it,\n",
    "# Append multiple rows i.e 2 rows to the 2D Numpy array\n",
    "empty_array = np.append(empty_array, np.array([[16, 26, 36, 46], [17, 27, 37, 47]]), axis=0)\n",
    "print('multiple rows to an empty 2D Numpy array:')\n",
    "print(empty_array)\n",
    "\n",
    "\n",
    "#Create Empty Numpy array and append columns\n",
    "# Create an empty 2D numpy array with 4 rows and 0 column\n",
    "empty_array = np.empty((4, 0), int)\n",
    "print('Empty 2D Numpy array:')\n",
    "print(empty_array)\n",
    "column_list_1 = [11, 21, 31, 41]\n",
    "# Append list as a column to the 2D Numpy array\n",
    "empty_array = np.append(empty_array, np.array([column_list_1]).transpose(), axis=1)\n",
    "print('2D Numpy array:')\n",
    "print(empty_array)\n",
    "#So, one column is added to the empty numpy array. Now let’s add another column,\n",
    "column_list_2 = [15, 25, 35, 45]\n",
    "# Append list as a column to the 2D Numpy array\n",
    "empty_array = np.append(empty_array, np.array([column_list_2]).transpose(), axis=1)\n",
    "print('2D Numpy array:')\n",
    "print(empty_array)\n",
    "\n",
    "#Add multiple columns to an empty 2D Numpy array in single line\n",
    "#To add multiple columns to an 2D Numpy array, combine the columns in a same shape numpy array and then append it,\n",
    "# Create an empty 2D numpy array with 4 rows and 0 column\n",
    "empty_array = np.empty((4, 0), int)\n",
    "column_list_2 = np.array([[16, 26, 36, 46], [17, 27, 37, 47]])\n",
    "# Append list as a column to the 2D Numpy array\n",
    "empty_array = np.append(empty_array, column_list_2.transpose(), axis=1)\n",
    "print('2D Numpy array:')\n",
    "print(empty_array)"
   ]
  },
  {
   "cell_type": "markdown",
   "metadata": {
    "id": "BIgMaFkUNcsN"
   },
   "source": [
    "# Searching in Numpy Arrays\n",
    "\n",
    "1. the indexing in Numpy Array and finding it\n",
    "\n",
    "2. Find max value & it’s index in Numpy Array | numpy.amax()\n",
    "\n",
    "3. Find unique values in a numpy array with frequency & indice\n",
    "\n",
    "4. numpy.amin() | Find minimum value in Numpy Array and it’s index"
   ]
  },
  {
   "cell_type": "code",
   "execution_count": 32,
   "metadata": {
    "id": "QAoJ0cEaNrK4"
   },
   "outputs": [
    {
     "data": {
      "text/plain": [
       "'Array indexing is the same as accessing an array element.\\n\\nYou can access an array element by referring to its index number.\\n\\nThe indexes in NumPy arrays start with 0, meaning that the first element has index 0, and the second has index 1 etc.'"
      ]
     },
     "execution_count": 32,
     "metadata": {},
     "output_type": "execute_result"
    }
   ],
   "source": [
    "#NumPy Array Indexing\n",
    "'''Array indexing is the same as accessing an array element.\n",
    "\n",
    "You can access an array element by referring to its index number.\n",
    "\n",
    "The indexes in NumPy arrays start with 0, meaning that the first element has index 0, and the second has index 1 etc.'''"
   ]
  },
  {
   "cell_type": "code",
   "execution_count": 33,
   "metadata": {
    "colab": {
     "base_uri": "https://localhost:8080/"
    },
    "executionInfo": {
     "elapsed": 1444,
     "status": "ok",
     "timestamp": 1616059380565,
     "user": {
      "displayName": "Vijay Bhagwat",
      "photoUrl": "https://lh3.googleusercontent.com/a-/AOh14GjvOC2nPcN5TxFs3HomoPmr8m32ajw-l0UWMrex_A=s64",
      "userId": "00341087335317291686"
     },
     "user_tz": -330
    },
    "id": "HlD_NC7llcFO",
    "outputId": "b60529e1-e933-4bfb-cad1-62961b662a5b"
   },
   "outputs": [
    {
     "name": "stdout",
     "output_type": "stream",
     "text": [
      "[ 2  3  4  5  6  7  8  9 10 11 12 13 14]\n",
      "1.Second element of array:\n",
      "3\n",
      "third and fourth elements from the array and add them: \n",
      "9\n"
     ]
    },
    {
     "data": {
      "text/plain": [
       "array([2, 3, 4, 5, 6])"
      ]
     },
     "execution_count": 33,
     "metadata": {},
     "output_type": "execute_result"
    }
   ],
   "source": [
    "#Creating sample array\n",
    "arr = np.arange(2,15)\n",
    "print(arr)\n",
    "\n",
    "print('1.Second element of array:')\n",
    "print(arr[1])\n",
    "\n",
    "print('third and fourth elements from the array and add them: ')\n",
    "print(arr[2]+arr[3])\n",
    "\n",
    "arr[1:5]            # accessing 1 to 5 element from array\n",
    "arr[:5]             # accessing from 1 to 5 elements\n",
    "\n",
    "\n"
   ]
  },
  {
   "cell_type": "code",
   "execution_count": 34,
   "metadata": {
    "colab": {
     "base_uri": "https://localhost:8080/"
    },
    "executionInfo": {
     "elapsed": 1963,
     "status": "ok",
     "timestamp": 1616059790458,
     "user": {
      "displayName": "Vijay Bhagwat",
      "photoUrl": "https://lh3.googleusercontent.com/a-/AOh14GjvOC2nPcN5TxFs3HomoPmr8m32ajw-l0UWMrex_A=s64",
      "userId": "00341087335317291686"
     },
     "user_tz": -330
    },
    "id": "Br_oO1WKqx9f",
    "outputId": "894a4f9b-c087-4b28-a5ac-85af8bf07009"
   },
   "outputs": [
    {
     "data": {
      "text/plain": [
       "array([15, 15, 15, 15, 15,  7,  8,  9, 10, 11, 12, 13, 14])"
      ]
     },
     "execution_count": 34,
     "metadata": {},
     "output_type": "execute_result"
    }
   ],
   "source": [
    "import numpy as np\n",
    "#Setting a value with index range (Broadcasting)\n",
    "arr[0:5]=15\n",
    "\n",
    "#Show\n",
    "arr"
   ]
  },
  {
   "cell_type": "code",
   "execution_count": 35,
   "metadata": {
    "colab": {
     "base_uri": "https://localhost:8080/"
    },
    "executionInfo": {
     "elapsed": 1364,
     "status": "ok",
     "timestamp": 1616060453851,
     "user": {
      "displayName": "Vijay Bhagwat",
      "photoUrl": "https://lh3.googleusercontent.com/a-/AOh14GjvOC2nPcN5TxFs3HomoPmr8m32ajw-l0UWMrex_A=s64",
      "userId": "00341087335317291686"
     },
     "user_tz": -330
    },
    "id": "q5npVqHjrjEe",
    "outputId": "eefac04c-3ab0-40fe-8658-2d591d619c83"
   },
   "outputs": [
    {
     "name": "stdout",
     "output_type": "stream",
     "text": [
      "range of arrays :\n",
      "[ 0  1  2  3  4  5  6  7  8  9 10]\n",
      "Show slice :\n",
      "[0 1 2 3 4 5]\n",
      "Show Slice again :\n",
      "[50 50  2  3  4  5]\n"
     ]
    }
   ],
   "source": [
    "#Slicing arrays\n",
    "#Slicing in python means taking elements from one given index to another given index.\n",
    "#We pass slice instead of index like this: [start:end].\n",
    "#We can also define the step, like this: [start:end:step].\n",
    "import numpy as np\n",
    "# Reset array, we'll see why I had to reset in  a moment\n",
    "arr = np.arange(0,11)\n",
    "print('range of arrays :')\n",
    "print(arr)\n",
    "\n",
    "# slicing \n",
    "slice_of_arr = arr[0:6]\n",
    "\n",
    "print('Show slice :')\n",
    "print(slice_of_arr)\n",
    "\n",
    "#Change Slice\n",
    "\n",
    "slice_of_arr[:2]=50\n",
    "\n",
    "print(\"Show Slice again :\")\n",
    "print(slice_of_arr)"
   ]
  },
  {
   "cell_type": "code",
   "execution_count": 36,
   "metadata": {
    "colab": {
     "base_uri": "https://localhost:8080/"
    },
    "executionInfo": {
     "elapsed": 2163,
     "status": "ok",
     "timestamp": 1616060847071,
     "user": {
      "displayName": "Vijay Bhagwat",
      "photoUrl": "https://lh3.googleusercontent.com/a-/AOh14GjvOC2nPcN5TxFs3HomoPmr8m32ajw-l0UWMrex_A=s64",
      "userId": "00341087335317291686"
     },
     "user_tz": -330
    },
    "id": "DMAqWAmguazR",
    "outputId": "fa5bc8df-8200-4372-98cc-6c1e347e5723"
   },
   "outputs": [
    {
     "name": "stdout",
     "output_type": "stream",
     "text": [
      "range of arrays :\n",
      "[ 0  1  2  3  4  5  6  7  8  9 10]\n",
      "[ 0  0  2  3  4  5  6  7  8  9 10]\n",
      "[ 0  1  2  3  4  5  6  7  8  9 10]\n"
     ]
    }
   ],
   "source": [
    "arr = np.arange(0,11)\n",
    "print('range of arrays :')\n",
    "print(arr)\n",
    "\n",
    "\n",
    "#To get a copy, need to be explicit\n",
    "arr_copy = arr.copy()\n",
    "arr_copy\n",
    "\n",
    "\n",
    "arr_copy[0:2] = 0\n",
    "print(arr_copy)\n",
    "print(arr)"
   ]
  },
  {
   "cell_type": "markdown",
   "metadata": {
    "id": "-87Hd63Pvwu0"
   },
   "source": [
    "#Access 2-D Arrays\n",
    "\n",
    "To access elements from 2-D arrays we can use comma separated integers representing the dimension and the index of the element.\n",
    "\n",
    "The general format is arr_2d[row][col] or arr_2d[row,col] using the comma notation for clarity."
   ]
  },
  {
   "cell_type": "code",
   "execution_count": 37,
   "metadata": {
    "colab": {
     "base_uri": "https://localhost:8080/"
    },
    "executionInfo": {
     "elapsed": 1493,
     "status": "ok",
     "timestamp": 1616061504654,
     "user": {
      "displayName": "Vijay Bhagwat",
      "photoUrl": "https://lh3.googleusercontent.com/a-/AOh14GjvOC2nPcN5TxFs3HomoPmr8m32ajw-l0UWMrex_A=s64",
      "userId": "00341087335317291686"
     },
     "user_tz": -330
    },
    "id": "hH86hCK5wj9v",
    "outputId": "1f04e86c-0acf-446e-ea30-a1ee1278e748"
   },
   "outputs": [
    {
     "data": {
      "text/plain": [
       "array([[ 5, 10, 15],\n",
       "       [20, 25, 30],\n",
       "       [35, 40, 45]])"
      ]
     },
     "execution_count": 37,
     "metadata": {},
     "output_type": "execute_result"
    }
   ],
   "source": [
    "arr_2d = np.array(([5,10,15],[20,25,30],[35,40,45]))\n",
    "#Show\n",
    "arr_2d\n"
   ]
  },
  {
   "cell_type": "code",
   "execution_count": null,
   "metadata": {
    "colab": {
     "base_uri": "https://localhost:8080/"
    },
    "executionInfo": {
     "elapsed": 1381,
     "status": "ok",
     "timestamp": 1616061399196,
     "user": {
      "displayName": "Vijay Bhagwat",
      "photoUrl": "https://lh3.googleusercontent.com/a-/AOh14GjvOC2nPcN5TxFs3HomoPmr8m32ajw-l0UWMrex_A=s64",
      "userId": "00341087335317291686"
     },
     "user_tz": -330
    },
    "id": "b2A_kPyiwqKT",
    "outputId": "ecef373b-444a-42e9-f3b4-780231719c50"
   },
   "outputs": [
    {
     "data": {
      "text/plain": [
       "(3, 3)"
      ]
     },
     "execution_count": 27,
     "metadata": {
      "tags": []
     },
     "output_type": "execute_result"
    }
   ],
   "source": [
    "arr_2d.shape        #dimension of matrix / array"
   ]
  },
  {
   "cell_type": "code",
   "execution_count": 38,
   "metadata": {
    "colab": {
     "base_uri": "https://localhost:8080/"
    },
    "executionInfo": {
     "elapsed": 1211,
     "status": "ok",
     "timestamp": 1616061550946,
     "user": {
      "displayName": "Vijay Bhagwat",
      "photoUrl": "https://lh3.googleusercontent.com/a-/AOh14GjvOC2nPcN5TxFs3HomoPmr8m32ajw-l0UWMrex_A=s64",
      "userId": "00341087335317291686"
     },
     "user_tz": -330
    },
    "id": "UKDYcSbCxkDq",
    "outputId": "05868c3b-ee9e-4230-9e9d-eb311115d657"
   },
   "outputs": [
    {
     "name": "stdout",
     "output_type": "stream",
     "text": [
      "5th element on 2nd dim:  10\n"
     ]
    }
   ],
   "source": [
    "arr = np.array([[1,2,3,4,5], [6,7,8,9,10]])\n",
    "\n",
    "print('5th element on 2nd dim: ', arr[1, 4])\n"
   ]
  },
  {
   "cell_type": "code",
   "execution_count": 39,
   "metadata": {
    "colab": {
     "base_uri": "https://localhost:8080/"
    },
    "executionInfo": {
     "elapsed": 1478,
     "status": "ok",
     "timestamp": 1616061589044,
     "user": {
      "displayName": "Vijay Bhagwat",
      "photoUrl": "https://lh3.googleusercontent.com/a-/AOh14GjvOC2nPcN5TxFs3HomoPmr8m32ajw-l0UWMrex_A=s64",
      "userId": "00341087335317291686"
     },
     "user_tz": -330
    },
    "id": "OmWcMcMDxs1i",
    "outputId": "6215632d-3256-4e1e-b945-d30b25630e61"
   },
   "outputs": [
    {
     "data": {
      "text/plain": [
       "array([[25, 30],\n",
       "       [40, 45]])"
      ]
     },
     "execution_count": 39,
     "metadata": {},
     "output_type": "execute_result"
    }
   ],
   "source": [
    "arr_2d[1:,1:] "
   ]
  },
  {
   "cell_type": "code",
   "execution_count": 40,
   "metadata": {
    "colab": {
     "base_uri": "https://localhost:8080/"
    },
    "executionInfo": {
     "elapsed": 1806,
     "status": "ok",
     "timestamp": 1616061660121,
     "user": {
      "displayName": "Vijay Bhagwat",
      "photoUrl": "https://lh3.googleusercontent.com/a-/AOh14GjvOC2nPcN5TxFs3HomoPmr8m32ajw-l0UWMrex_A=s64",
      "userId": "00341087335317291686"
     },
     "user_tz": -330
    },
    "id": "T7TN3k6Kx59q",
    "outputId": "6465ef54-086d-4f0c-a43c-4ba1c459da39"
   },
   "outputs": [
    {
     "data": {
      "text/plain": [
       "20"
      ]
     },
     "execution_count": 40,
     "metadata": {},
     "output_type": "execute_result"
    }
   ],
   "source": [
    "#Indexing row\n",
    "# Format is arr_2d[row][col] or arr_2d[row,col]\n",
    "# Getting individual element value\n",
    "arr_2d[1][0]"
   ]
  },
  {
   "cell_type": "code",
   "execution_count": 41,
   "metadata": {
    "colab": {
     "base_uri": "https://localhost:8080/"
    },
    "executionInfo": {
     "elapsed": 1234,
     "status": "ok",
     "timestamp": 1616061856616,
     "user": {
      "displayName": "Vijay Bhagwat",
      "photoUrl": "https://lh3.googleusercontent.com/a-/AOh14GjvOC2nPcN5TxFs3HomoPmr8m32ajw-l0UWMrex_A=s64",
      "userId": "00341087335317291686"
     },
     "user_tz": -330
    },
    "id": "DZmsiwxJynNT",
    "outputId": "af7ecf27-f19e-40b9-9ea5-6cbbcb90bb1d"
   },
   "outputs": [
    {
     "data": {
      "text/plain": [
       "array([[10, 15],\n",
       "       [25, 30]])"
      ]
     },
     "execution_count": 41,
     "metadata": {},
     "output_type": "execute_result"
    }
   ],
   "source": [
    "# 2D array slicing\n",
    "#Shape (2,2) from top right corner\n",
    "arr_2d[:2,1:]"
   ]
  },
  {
   "cell_type": "code",
   "execution_count": 42,
   "metadata": {
    "colab": {
     "base_uri": "https://localhost:8080/"
    },
    "executionInfo": {
     "elapsed": 1241,
     "status": "ok",
     "timestamp": 1616062014363,
     "user": {
      "displayName": "Vijay Bhagwat",
      "photoUrl": "https://lh3.googleusercontent.com/a-/AOh14GjvOC2nPcN5TxFs3HomoPmr8m32ajw-l0UWMrex_A=s64",
      "userId": "00341087335317291686"
     },
     "user_tz": -330
    },
    "id": "04Hft82JzIDS",
    "outputId": "5946d7e2-0fc2-4900-d4fc-e35245d402ec"
   },
   "outputs": [
    {
     "data": {
      "text/plain": [
       "array([35, 40, 45])"
      ]
     },
     "execution_count": 42,
     "metadata": {},
     "output_type": "execute_result"
    }
   ],
   "source": [
    "\n",
    "#Shape bottom row\n",
    "arr_2d[2]"
   ]
  },
  {
   "cell_type": "code",
   "execution_count": 43,
   "metadata": {
    "colab": {
     "base_uri": "https://localhost:8080/"
    },
    "executionInfo": {
     "elapsed": 1228,
     "status": "ok",
     "timestamp": 1616062062265,
     "user": {
      "displayName": "Vijay Bhagwat",
      "photoUrl": "https://lh3.googleusercontent.com/a-/AOh14GjvOC2nPcN5TxFs3HomoPmr8m32ajw-l0UWMrex_A=s64",
      "userId": "00341087335317291686"
     },
     "user_tz": -330
    },
    "id": "AisDbmUdzWRp",
    "outputId": "a2652c58-2019-4681-91dc-58580965f009"
   },
   "outputs": [
    {
     "data": {
      "text/plain": [
       "array([35, 40, 45])"
      ]
     },
     "execution_count": 43,
     "metadata": {},
     "output_type": "execute_result"
    }
   ],
   "source": [
    "#Shape bottom row\n",
    "arr_2d[2,:]"
   ]
  },
  {
   "cell_type": "code",
   "execution_count": 44,
   "metadata": {
    "colab": {
     "base_uri": "https://localhost:8080/"
    },
    "executionInfo": {
     "elapsed": 1264,
     "status": "ok",
     "timestamp": 1616062105333,
     "user": {
      "displayName": "Vijay Bhagwat",
      "photoUrl": "https://lh3.googleusercontent.com/a-/AOh14GjvOC2nPcN5TxFs3HomoPmr8m32ajw-l0UWMrex_A=s64",
      "userId": "00341087335317291686"
     },
     "user_tz": -330
    },
    "id": "Xp6_vpQjzoAr",
    "outputId": "3b5dbe01-79c8-40e6-b6a8-5b6f270f5c16"
   },
   "outputs": [
    {
     "name": "stdout",
     "output_type": "stream",
     "text": [
      "6\n"
     ]
    }
   ],
   "source": [
    "#Access 3-D Arrays\n",
    "#To access elements from 3-D arrays we can use comma separated integers representing the dimensions and the index of the element.\n",
    "\n",
    "#Example\n",
    "#Access the third element of the second array of the first array:\n",
    "\n",
    "import numpy as np\n",
    "\n",
    "arr = np.array([[[1, 2, 3], [4, 5, 6]], [[7, 8, 9], [10, 11, 12]]])\n",
    "\n",
    "print(arr[0, 1, 2])"
   ]
  },
  {
   "cell_type": "code",
   "execution_count": null,
   "metadata": {
    "colab": {
     "base_uri": "https://localhost:8080/"
    },
    "executionInfo": {
     "elapsed": 1278,
     "status": "ok",
     "timestamp": 1616062304561,
     "user": {
      "displayName": "Vijay Bhagwat",
      "photoUrl": "https://lh3.googleusercontent.com/a-/AOh14GjvOC2nPcN5TxFs3HomoPmr8m32ajw-l0UWMrex_A=s64",
      "userId": "00341087335317291686"
     },
     "user_tz": -330
    },
    "id": "ONtVA3PRzZ84",
    "outputId": "3ae6ac2b-29b6-469d-ceea-b9ee36577eaa"
   },
   "outputs": [
    {
     "name": "stdout",
     "output_type": "stream",
     "text": [
      "Last element from 2nd dim:  10\n"
     ]
    }
   ],
   "source": [
    "#Negative Indexing\n",
    "#Use negative indexing to access an array from the end.\n",
    "\n",
    "#Example\n",
    "#Print the last element from the 2nd dim:\n",
    "\n",
    "import numpy as np\n",
    "\n",
    "arr = np.array([[1,2,3,4,5], [6,7,8,9,10]])\n",
    "\n",
    "print('Last element from 2nd dim: ', arr[1, -1])"
   ]
  },
  {
   "cell_type": "markdown",
   "metadata": {
    "id": "ItsgUxeE0oSy"
   },
   "source": [
    "Numpy.where():To find the index of value in Numpy Array\n",
    "\n",
    "numpy.where(condition[, x, y])"
   ]
  },
  {
   "cell_type": "code",
   "execution_count": 45,
   "metadata": {
    "id": "W--d4v-50urm"
   },
   "outputs": [
    {
     "name": "stdout",
     "output_type": "stream",
     "text": [
      "[11 12 13 14 15 16 17 15 11 12 14 15 16 17]\n",
      "Tuple of arrays returned :  (array([ 4,  7, 11], dtype=int64),)\n",
      "Elements with value 15 exists at following indices\n",
      "[ 4  7 11]\n"
     ]
    }
   ],
   "source": [
    "import numpy as np\n",
    "#1-D array\n",
    "arr = np.array([11, 12, 13, 14, 15, 16, 17, 15, 11, 12, 14, 15, 16, 17])\n",
    "print(arr)\n",
    " \n",
    "result = np.where(arr == 15)            # To Get the index of elements with value 15\n",
    "print('Tuple of arrays returned : ', result)\n",
    "print(\"Elements with value 15 exists at following indices\", result[0], sep='\\n')\n"
   ]
  },
  {
   "cell_type": "code",
   "execution_count": 46,
   "metadata": {
    "colab": {
     "base_uri": "https://localhost:8080/"
    },
    "executionInfo": {
     "elapsed": 1167,
     "status": "ok",
     "timestamp": 1616063350293,
     "user": {
      "displayName": "Vijay Bhagwat",
      "photoUrl": "https://lh3.googleusercontent.com/a-/AOh14GjvOC2nPcN5TxFs3HomoPmr8m32ajw-l0UWMrex_A=s64",
      "userId": "00341087335317291686"
     },
     "user_tz": -330
    },
    "id": "rIStQOhK3SDR",
    "outputId": "b894e7c1-0457-42cf-eddf-729ba3bf69da"
   },
   "outputs": [
    {
     "name": "stdout",
     "output_type": "stream",
     "text": [
      "[[11 12 13]\n",
      " [14 15 16]\n",
      " [17 15 11]\n",
      " [12 14 15]]\n",
      "Tuple of arrays returned :  (array([1, 2, 3], dtype=int64), array([1, 1, 2], dtype=int64))\n"
     ]
    }
   ],
   "source": [
    "#index of a value in 2D Numpy array | Matrix\n",
    "arr = np.array([[11, 12, 13],\n",
    "                [14, 15, 16],\n",
    "                [17, 15, 11],\n",
    "                [12, 14, 15]])\n",
    "print(arr)\n",
    "\n",
    "\n",
    "result = np.where(arr == 15)        #  find the indices of element with value 15 in this 2D numpy array \n",
    "print('Tuple of arrays returned : ', result)\n"
   ]
  },
  {
   "cell_type": "code",
   "execution_count": 47,
   "metadata": {
    "colab": {
     "base_uri": "https://localhost:8080/"
    },
    "executionInfo": {
     "elapsed": 2426,
     "status": "ok",
     "timestamp": 1616063935423,
     "user": {
      "displayName": "Vijay Bhagwat",
      "photoUrl": "https://lh3.googleusercontent.com/a-/AOh14GjvOC2nPcN5TxFs3HomoPmr8m32ajw-l0UWMrex_A=s64",
      "userId": "00341087335317291686"
     },
     "user_tz": -330
    },
    "id": "hdisSo_V6bRI",
    "outputId": "d53b366c-1492-4069-d999-289248b8e64f"
   },
   "outputs": [
    {
     "name": "stdout",
     "output_type": "stream",
     "text": [
      "Elements with value less than 16 and greater than 12 exists at following indices\n",
      "(array([ 2,  3,  4,  7, 10, 11], dtype=int64),)\n"
     ]
    }
   ],
   "source": [
    "# pass multiple conditions to numpy.where().\n",
    "#For example, get the indices of elements with value less than 16 and greater than 12 i.e.\n",
    "# Create a numpy array from a list of numbers\n",
    "arr = np.array([11, 12, 13, 14, 15, 16, 17, 15, 11, 12, 14, 15, 16, 17])\n",
    "# Get the index of elements with value less than 16 and greater than 12\n",
    "result = np.where((arr > 12) & (arr < 16))\n",
    "print(\"Elements with value less than 16 and greater than 12 exists at following indices\", result, sep='\\n')\n"
   ]
  },
  {
   "cell_type": "markdown",
   "metadata": {
    "id": "YwZKH2oxjGao"
   },
   "source": [
    "numpy.amax():  It is a function to get the maximum value from a Numpy array\n"
   ]
  },
  {
   "cell_type": "code",
   "execution_count": 48,
   "metadata": {
    "colab": {
     "base_uri": "https://localhost:8080/"
    },
    "executionInfo": {
     "elapsed": 1633,
     "status": "ok",
     "timestamp": 1616125348437,
     "user": {
      "displayName": "Vijay Bhagwat",
      "photoUrl": "https://lh3.googleusercontent.com/a-/AOh14GjvOC2nPcN5TxFs3HomoPmr8m32ajw-l0UWMrex_A=s64",
      "userId": "00341087335317291686"
     },
     "user_tz": -330
    },
    "id": "isJnua6hj-O_",
    "outputId": "a3fe91a7-f500-40f3-ff84-37ad8c5e43aa"
   },
   "outputs": [
    {
     "name": "stdout",
     "output_type": "stream",
     "text": [
      "Max element from Numpy Array :  17\n",
      "Returned tuple of arrays : (array([ 6, 13], dtype=int64),)\n",
      "List of Indices of maximum element : [ 6 13]\n"
     ]
    }
   ],
   "source": [
    "import numpy as np\n",
    "#Find maximum value & its index in a 1D Numpy Array:\n",
    "#Let’s create a 1D numpy array from a list \n",
    "arr = np.array([11, 12, 13, 14, 15, 16, 17, 15, 11, 12, 14, 15, 16, 17])\n",
    "\n",
    "#Get the maximum element from a Numpy array\n",
    "maxElement = np.amax(arr)\n",
    "print('Max element from Numpy Array : ', maxElement)\n",
    " \n",
    "#Get the indices of maximum element in numpy array\n",
    "result = np.where(arr == np.amax(arr))\n",
    "print('Returned tuple of arrays :', result)\n",
    "print('List of Indices of maximum element :', result[0])\n"
   ]
  },
  {
   "cell_type": "code",
   "execution_count": 49,
   "metadata": {
    "colab": {
     "base_uri": "https://localhost:8080/"
    },
    "executionInfo": {
     "elapsed": 1601,
     "status": "ok",
     "timestamp": 1616125752152,
     "user": {
      "displayName": "Vijay Bhagwat",
      "photoUrl": "https://lh3.googleusercontent.com/a-/AOh14GjvOC2nPcN5TxFs3HomoPmr8m32ajw-l0UWMrex_A=s64",
      "userId": "00341087335317291686"
     },
     "user_tz": -330
    },
    "id": "_21hfj3QlBeg",
    "outputId": "5613ac29-a488-488f-c9a6-79626f74a3c6"
   },
   "outputs": [
    {
     "name": "stdout",
     "output_type": "stream",
     "text": [
      "max value in complete array: 17\n",
      "Max value of every column:  [17 15 16]\n",
      "Max value of every Row:  [13 16 17 15]\n"
     ]
    }
   ],
   "source": [
    "import numpy\n",
    "#Find maximum value & its index in a 2D Numpy Array\n",
    "# Create a 2D Numpy array from list of lists\n",
    "arr2D = numpy.array([[11, 12, 13],\n",
    "                     [14, 15, 16],\n",
    "                     [17, 15, 11],\n",
    "                     [12, 14, 15]])\n",
    "\n",
    "#Find max value in complete 2D numpy array\n",
    "#To find maximum value from complete 2D numpy array we will not pass axis in numpy.amax() i.e.\n",
    "# Get the maximum value from complete 2D numpy array\n",
    "maxValue = numpy.amax(arr2D)\n",
    "print('max value in complete array:', maxValue)\n",
    "\n",
    "#If we pass axis=0 in numpy.amax() then it returns an array containing max value for each column i.e.\n",
    "# Get the maximum values of each column i.e. along axis 0\n",
    "maxInColumns = numpy.amax(arr2D, axis=0)\n",
    "print('Max value of every column: ', maxInColumns)\n",
    "\n",
    "#If we pass axis = 1 in numpy.amax() then it returns an array containing max value for each row i.e.\n",
    "# Get the maximum values of each row i.e. along axis 1\n",
    "maxInRows = numpy.amax(arr2D, axis=1)\n",
    "print('Max value of every Row: ', maxInRows)"
   ]
  },
  {
   "cell_type": "code",
   "execution_count": 50,
   "metadata": {
    "colab": {
     "base_uri": "https://localhost:8080/"
    },
    "executionInfo": {
     "elapsed": 984,
     "status": "ok",
     "timestamp": 1616131202858,
     "user": {
      "displayName": "Vijay Bhagwat",
      "photoUrl": "https://lh3.googleusercontent.com/a-/AOh14GjvOC2nPcN5TxFs3HomoPmr8m32ajw-l0UWMrex_A=s64",
      "userId": "00341087335317291686"
     },
     "user_tz": -330
    },
    "id": "5pt69kMBmxY5",
    "outputId": "f52bf0f9-10a6-4842-e487-ae90590e63f2"
   },
   "outputs": [
    {
     "name": "stdout",
     "output_type": "stream",
     "text": [
      "Original Numpy Array :  [11 11 12 13 14 15 16 17 12 13 11 14 18]\n",
      "Unique Values :  [11 12 13 14 15 16 17 18]\n",
      "Original Numpy Array :  [11 11 12 13 14 15 16 17 12 13 11 14 18]\n",
      "Unique Values :  [11 12 13 14 15 16 17 18]\n",
      "Indices of Unique Values :  [ 0  2  3  4  5  6  7 12]\n",
      "Original Numpy Array :  [11 11 12 13 14 15 16 17 12 13 11 14 18]\n",
      "Unique Values :  [11 12 13 14 15 16 17 18]\n",
      "Occurrence Count :  [3 2 2 2 1 1 1 1]\n"
     ]
    }
   ],
   "source": [
    "# numpy.unique():  a function to find the unique elements in a numpy array \n",
    "\n",
    "\n",
    "# Find Unique Values from a Numpy Array\n",
    "# To find the unique values in this array pass the complete array to numpy.unique(). It will return an array of unique values i.e.\n",
    "# Get unique values in a numpy array\n",
    "arr = numpy.array([11, 11, 12, 13, 14, 15, 16, 17, 12, 13, 11, 14, 18])\n",
    "print('Original Numpy Array : ' , arr)\n",
    "# Get unique values from a numpy array\n",
    "uniqueValues = numpy.unique(arr)\n",
    "print('Unique Values : ',uniqueValues)\n",
    "\n",
    "\n",
    "\n",
    "#Find Unique Values & their first index position from a Numpy Array\n",
    "#To get the indices of unique values in numpy array, pass the return_index argument in numpy.unique(), along with array i.e.\n",
    "arr = numpy.array([11, 11, 12, 13, 14, 15, 16, 17, 12, 13, 11, 14, 18])\n",
    "print('Original Numpy Array : ' , arr)\n",
    "# Get a tuple of unique values & their first index location from a numpy array\n",
    "uniqueValues, indicesList = numpy.unique(arr, return_index=True)\n",
    "print('Unique Values : ', uniqueValues)\n",
    "print('Indices of Unique Values : ', indicesList)\n",
    "\n",
    "#Get Unique Values & their frequency count from a Numpy Array\n",
    "#To get the frequency count of unique values in numpy array, pass the return_counts argument in numpy.unique(), along with array i.e.\n",
    "arr = numpy.array([11, 11, 12, 13, 14, 15, 16, 17, 12, 13, 11, 14, 18])\n",
    "print('Original Numpy Array : ' , arr)\n",
    "# Get a tuple of unique values & their frequency in numpy array\n",
    "uniqueValues, occurCount = numpy.unique(arr, return_counts=True)\n",
    "print(\"Unique Values : \" , uniqueValues)\n",
    "print(\"Occurrence Count : \", occurCount)\n"
   ]
  },
  {
   "cell_type": "code",
   "execution_count": 51,
   "metadata": {
    "colab": {
     "base_uri": "https://localhost:8080/"
    },
    "executionInfo": {
     "elapsed": 1906,
     "status": "ok",
     "timestamp": 1616131671215,
     "user": {
      "displayName": "Vijay Bhagwat",
      "photoUrl": "https://lh3.googleusercontent.com/a-/AOh14GjvOC2nPcN5TxFs3HomoPmr8m32ajw-l0UWMrex_A=s64",
      "userId": "00341087335317291686"
     },
     "user_tz": -330
    },
    "id": "TJppRXpn7_AH",
    "outputId": "ace484aa-6671-4ef7-875b-dcd1f745775e"
   },
   "outputs": [
    {
     "name": "stdout",
     "output_type": "stream",
     "text": [
      "Original Array :\n",
      "[[11 11 12 11]\n",
      " [13 11 12 11]\n",
      " [16 11 12 11]\n",
      " [11 11 12 11]]\n",
      "Unique Values :  [11 12 13 16]\n",
      "Unique Rows : \n",
      "[[11 11 12 11]\n",
      " [13 11 12 11]\n",
      " [16 11 12 11]]\n",
      "Unique Columns : \n",
      "[[11 11 12]\n",
      " [11 13 12]\n",
      " [11 16 12]\n",
      " [11 11 12]]\n",
      "Unique Columns : \n",
      "[[11 11 12]\n",
      " [11 13 12]\n",
      " [11 16 12]\n",
      " [11 11 12]]\n",
      "Unique Columns Occurrence : \n",
      "[2 1 1]\n"
     ]
    }
   ],
   "source": [
    "#Find unique values, rows & columns in a 2D numpy array\n",
    "#We can also pass a 2D numpy array to numpy.unique() to get the unique values i.e.\n",
    "# Create a 2D numpy array\n",
    "arr2D = numpy.array([[11, 11, 12,11] ,[ 13, 11, 12,11] , [ 16, 11, 12, 11],  [11, 11, 12, 11]])\n",
    "print('Original Array :' , arr2D, sep='\\n')\n",
    "# Get unique values from complete 2D array\n",
    "uniqueValues = numpy.unique(arr2D)\n",
    "print('Unique Values : ', uniqueValues)\n",
    "\n",
    "\n",
    "#Get unique Rows :\n",
    "# Get unique rows from complete 2D numpy array\n",
    "uniqueRows = numpy.unique(arr2D, axis=0)\n",
    "print('Unique Rows : ', uniqueRows, sep='\\n')\n",
    "\n",
    "\n",
    "#Get unique Columns :\n",
    "# Get unique columns from  2D numpy array\n",
    "uniqueColumns = numpy.unique(arr2D, axis=1)\n",
    "print('Unique Columns : ', uniqueColumns, sep='\\n')\n",
    "\n",
    "\n",
    "#Get unique Columns & index position :\n",
    "# Get unique columns  & occurrence count from a 2D numpy array\n",
    "uniqueColumns, occurCount = numpy.unique(arr2D, axis=1, return_counts=True)\n",
    "print('Unique Columns : ', uniqueColumns, sep='\\n')\n",
    "print('Unique Columns Occurrence : ', occurCount, sep='\\n')\n"
   ]
  },
  {
   "cell_type": "code",
   "execution_count": 54,
   "metadata": {
    "id": "xuFAOK7v9SjW"
   },
   "outputs": [],
   "source": [
    "# numpy.amin() :  a function to get the minimum value from a Numpy array \n"
   ]
  },
  {
   "cell_type": "code",
   "execution_count": 55,
   "metadata": {
    "colab": {
     "base_uri": "https://localhost:8080/"
    },
    "executionInfo": {
     "elapsed": 1095,
     "status": "ok",
     "timestamp": 1616131988337,
     "user": {
      "displayName": "Vijay Bhagwat",
      "photoUrl": "https://lh3.googleusercontent.com/a-/AOh14GjvOC2nPcN5TxFs3HomoPmr8m32ajw-l0UWMrex_A=s64",
      "userId": "00341087335317291686"
     },
     "user_tz": -330
    },
    "id": "wiZ5II4r97sA",
    "outputId": "00a57ff8-6bba-4dc3-bd59-5e846cdb2049"
   },
   "outputs": [
    {
     "name": "stdout",
     "output_type": "stream",
     "text": [
      "Minimum element from Numpy Array :  11\n"
     ]
    }
   ],
   "source": [
    "#Find minimum value & it’s index in a 1D Numpy Array:\n",
    "#Let’s create a 1D numpy array from a list \n",
    "arr = numpy.array([11, 12, 13, 14, 15, 16, 17, 15, 11, 12, 14, 15, 16, 17])\n",
    "# Get the minimum element from a Numpy array\n",
    "minElement = numpy.amin(arr)\n",
    "print('Minimum element from Numpy Array : ', minElement)\n"
   ]
  },
  {
   "cell_type": "code",
   "execution_count": 56,
   "metadata": {
    "colab": {
     "base_uri": "https://localhost:8080/"
    },
    "executionInfo": {
     "elapsed": 1291,
     "status": "ok",
     "timestamp": 1616132209015,
     "user": {
      "displayName": "Vijay Bhagwat",
      "photoUrl": "https://lh3.googleusercontent.com/a-/AOh14GjvOC2nPcN5TxFs3HomoPmr8m32ajw-l0UWMrex_A=s64",
      "userId": "00341087335317291686"
     },
     "user_tz": -330
    },
    "id": "BRCsIPGw-hGp",
    "outputId": "3923f76f-44d2-45e8-d95f-8ff2dd5e95d4"
   },
   "outputs": [
    {
     "name": "stdout",
     "output_type": "stream",
     "text": [
      "min value of every column:  [11 12 11]\n",
      "min value of every Row:  [11 14 11 12]\n"
     ]
    }
   ],
   "source": [
    "#Find minimum value & it’s index in a 2D Numpy Array\n",
    "#Let’s create a 2D numpy array .\n",
    "# Create a 2D Numpy array from list of lists\n",
    "arr2D = numpy.array([[11, 12, 13],\n",
    "                     [14, 15, 16],\n",
    "                     [17, 15, 11],\n",
    "                     [12, 14, 15]])\n",
    "\n",
    "arr2D\n",
    "# Get the minimum value from complete 2D numpy array\n",
    "minValue = numpy.amin(arr2D)\n",
    "\n",
    "\n",
    "#Find min values along the axis in 2D numpy array | min in rows or columns:\n",
    "#If we pass axis=0 in numpy.amin() then it returns an array containing min value for each column i.e.\n",
    "# Get the minimum values of each column i.e. along axis 0\n",
    "minInColumns = numpy.amin(arr2D, axis=0)\n",
    "print('min value of every column: ', minInColumns)\n",
    "\n",
    "# Get the minimum values of each row i.e. along axis 1\n",
    "minInRows = numpy.amin(arr2D, axis=1)\n",
    "print('min value of every Row: ', minInRows)\n"
   ]
  },
  {
   "cell_type": "markdown",
   "metadata": {
    "id": "P5fNkutZCQJv"
   },
   "source": [
    "To get Numpy Array Dimensions using numpy.ndarray.shape & numpy.ndarray.size() \n",
    "\n",
    "Get the Dimensions of a Numpy array using ndarray.shape()\n",
    "#numpy.ndarray.shape\n",
    "\n",
    "Python’s Numpy module provides a function to get the number of elements in a Numpy array along axis i.e.\n",
    "\n",
    "#numpy.size(arr, axis=None)"
   ]
  },
  {
   "cell_type": "code",
   "execution_count": 57,
   "metadata": {
    "colab": {
     "base_uri": "https://localhost:8080/"
    },
    "executionInfo": {
     "elapsed": 1009,
     "status": "ok",
     "timestamp": 1616139090359,
     "user": {
      "displayName": "Vijay Bhagwat",
      "photoUrl": "https://lh3.googleusercontent.com/a-/AOh14GjvOC2nPcN5TxFs3HomoPmr8m32ajw-l0UWMrex_A=s64",
      "userId": "00341087335317291686"
     },
     "user_tz": -330
    },
    "id": "6GML5oEuZUj6",
    "outputId": "19c1692e-a588-42a7-854a-820e84d329f6"
   },
   "outputs": [
    {
     "name": "stdout",
     "output_type": "stream",
     "text": [
      "2D Numpy Array\n",
      "[[11 12 13 11]\n",
      " [21 22 23 24]\n",
      " [31 32 33 34]]\n"
     ]
    }
   ],
   "source": [
    "#Get Dimensions of a 2D numpy array using ndarray.shape\n",
    "#Let’s create a 2D Numpy array i.e.\n",
    "# Create a 2D Numpy array list of list\n",
    "arr2D = np.array([[11 ,12,13,11], [21, 22, 23, 24], [31,32,33,34]])\n",
    "print('2D Numpy Array')\n",
    "print(arr2D)"
   ]
  },
  {
   "cell_type": "code",
   "execution_count": 58,
   "metadata": {
    "colab": {
     "base_uri": "https://localhost:8080/"
    },
    "executionInfo": {
     "elapsed": 1175,
     "status": "ok",
     "timestamp": 1616139131773,
     "user": {
      "displayName": "Vijay Bhagwat",
      "photoUrl": "https://lh3.googleusercontent.com/a-/AOh14GjvOC2nPcN5TxFs3HomoPmr8m32ajw-l0UWMrex_A=s64",
      "userId": "00341087335317291686"
     },
     "user_tz": -330
    },
    "id": "DTF6zpT8Ze0a",
    "outputId": "cba50234-5483-45b3-a5d2-0953b0cc3a95"
   },
   "outputs": [
    {
     "name": "stdout",
     "output_type": "stream",
     "text": [
      "Number of Rows :  3\n"
     ]
    }
   ],
   "source": [
    "#Get number of rows in this 2D numpy array i.e.\n",
    "# get number of rows in 2D numpy array\n",
    "numOfRows = arr2D.shape[0]\n",
    "print('Number of Rows : ', numOfRows)\n"
   ]
  },
  {
   "cell_type": "code",
   "execution_count": 59,
   "metadata": {
    "colab": {
     "base_uri": "https://localhost:8080/"
    },
    "executionInfo": {
     "elapsed": 917,
     "status": "ok",
     "timestamp": 1616139209151,
     "user": {
      "displayName": "Vijay Bhagwat",
      "photoUrl": "https://lh3.googleusercontent.com/a-/AOh14GjvOC2nPcN5TxFs3HomoPmr8m32ajw-l0UWMrex_A=s64",
      "userId": "00341087335317291686"
     },
     "user_tz": -330
    },
    "id": "xGA8ccJFZpVx",
    "outputId": "6337d930-ac5e-4d02-b1de-244196d5fe01"
   },
   "outputs": [
    {
     "name": "stdout",
     "output_type": "stream",
     "text": [
      "Number of Columns :  4\n",
      "Total Number of elements in 2D Numpy array :  12\n"
     ]
    }
   ],
   "source": [
    "# get number of columns in 2D numpy array\n",
    "numOfColumns = arr2D.shape[1]\n",
    "print('Number of Columns : ', numOfColumns)\n",
    "# get total number of elements in this 2D numpy array,\n",
    "print('Total Number of elements in 2D Numpy array : ', arr2D.shape[0] * arr2D.shape[1])"
   ]
  },
  {
   "cell_type": "code",
   "execution_count": 60,
   "metadata": {
    "colab": {
     "base_uri": "https://localhost:8080/"
    },
    "executionInfo": {
     "elapsed": 985,
     "status": "ok",
     "timestamp": 1616139258305,
     "user": {
      "displayName": "Vijay Bhagwat",
      "photoUrl": "https://lh3.googleusercontent.com/a-/AOh14GjvOC2nPcN5TxFs3HomoPmr8m32ajw-l0UWMrex_A=s64",
      "userId": "00341087335317291686"
     },
     "user_tz": -330
    },
    "id": "-uK4PrJeZ5x5",
    "outputId": "b01e7cb0-9b04-406a-93f1-7ad0ae029bcc"
   },
   "outputs": [
    {
     "name": "stdout",
     "output_type": "stream",
     "text": [
      "Shape of 1D numpy array :  (8,)\n",
      "length of 1D numpy array :  8\n"
     ]
    }
   ],
   "source": [
    "#Get Dimensions of a 1D numpy array using ndarray.shape\n",
    "#Let’s create a 1D Numpy array i.e.\n",
    "# Create a Numpy array from list of numbers\n",
    "arr = np.array([4, 5, 6, 7, 8, 9, 10, 11])\n",
    "\n",
    "#Get number of elements of this 1D numpy array i.e.\n",
    "print('Shape of 1D numpy array : ', arr.shape)\n",
    "print('length of 1D numpy array : ', arr.shape[0])\n"
   ]
  },
  {
   "cell_type": "markdown",
   "metadata": {
    "id": "G_IBx85VaIXo"
   },
   "source": [
    "Get the Dimensions of a Numpy array using numpy.shape()\n",
    "\n",
    "Python’s Numpy module provides a function to get the number of elements in a Numpy array along axis i.e.\n",
    "\n",
    "#numpy.size(arr, axis=None)\n",
    "\n",
    "Args: It accepts the numpy array and also the axis along which it needs to count the elements.If axis is not passed then returns the total number of arguments.\n",
    "\n",
    "Returns: The number of elements along the passed axis.\n"
   ]
  },
  {
   "cell_type": "code",
   "execution_count": 61,
   "metadata": {
    "colab": {
     "base_uri": "https://localhost:8080/"
    },
    "executionInfo": {
     "elapsed": 1026,
     "status": "ok",
     "timestamp": 1616139425317,
     "user": {
      "displayName": "Vijay Bhagwat",
      "photoUrl": "https://lh3.googleusercontent.com/a-/AOh14GjvOC2nPcN5TxFs3HomoPmr8m32ajw-l0UWMrex_A=s64",
      "userId": "00341087335317291686"
     },
     "user_tz": -330
    },
    "id": "654VEcWcafUs",
    "outputId": "bc8821c6-20ad-45dc-a190-086b2156defd"
   },
   "outputs": [
    {
     "name": "stdout",
     "output_type": "stream",
     "text": [
      "2D Numpy Array\n",
      "[[11 12 13 11]\n",
      " [21 22 23 24]\n",
      " [31 32 33 34]]\n"
     ]
    }
   ],
   "source": [
    "#Get Dimensions of a 2D numpy array using numpy.size()\n",
    "#Let’s create a 2D Numpy array i.e.\n",
    "# Create a 2D Numpy array list of list\n",
    "arr2D = np.array([[11 ,12,13,11], [21, 22, 23, 24], [31,32,33,34]])\n",
    "print('2D Numpy Array')\n",
    "print(arr2D)"
   ]
  },
  {
   "cell_type": "code",
   "execution_count": 62,
   "metadata": {
    "colab": {
     "base_uri": "https://localhost:8080/"
    },
    "executionInfo": {
     "elapsed": 1283,
     "status": "ok",
     "timestamp": 1616139492956,
     "user": {
      "displayName": "Vijay Bhagwat",
      "photoUrl": "https://lh3.googleusercontent.com/a-/AOh14GjvOC2nPcN5TxFs3HomoPmr8m32ajw-l0UWMrex_A=s64",
      "userId": "00341087335317291686"
     },
     "user_tz": -330
    },
    "id": "e8k9F-ehas9P",
    "outputId": "beabfa7d-a968-4953-a308-778f52374997"
   },
   "outputs": [
    {
     "name": "stdout",
     "output_type": "stream",
     "text": [
      "Number of Rows :  3\n",
      "Number of Columns :  4\n",
      "Total Number of elements in 2D Numpy array :  12\n"
     ]
    }
   ],
   "source": [
    "#Get number of rows and columns of this 2D numpy array:\n",
    "# get number of rows in 2D numpy array\n",
    "numOfRows = np.size(arr2D, 0)\n",
    "\n",
    "\n",
    "# get number of columns in 2D numpy array\n",
    "numOfColumns = np.size(arr2D, 1)\n",
    "print('Number of Rows : ', numOfRows)\n",
    "print('Number of Columns : ', numOfColumns)\n",
    "\n",
    "\n",
    "#Get total number of elements in this 2D numpy array:\n",
    "print('Total Number of elements in 2D Numpy array : ', np.size(arr2D))\n"
   ]
  },
  {
   "cell_type": "code",
   "execution_count": 63,
   "metadata": {
    "colab": {
     "base_uri": "https://localhost:8080/"
    },
    "executionInfo": {
     "elapsed": 1025,
     "status": "ok",
     "timestamp": 1616142896821,
     "user": {
      "displayName": "Vijay Bhagwat",
      "photoUrl": "https://lh3.googleusercontent.com/a-/AOh14GjvOC2nPcN5TxFs3HomoPmr8m32ajw-l0UWMrex_A=s64",
      "userId": "00341087335317291686"
     },
     "user_tz": -330
    },
    "id": "7oxeHql2nYgJ",
    "outputId": "71fa25b9-c83d-4939-aad4-48a4592fdfcd"
   },
   "outputs": [
    {
     "name": "stdout",
     "output_type": "stream",
     "text": [
      "[[[11 12 13 11]\n",
      "  [21 22 23 24]\n",
      "  [31 32 33 34]]\n",
      "\n",
      " [[ 1  1  1  1]\n",
      "  [ 2  2  2  2]\n",
      "  [ 3  3  3  3]]]\n",
      "Axis 0 size :  2\n",
      "Axis 1 size :  3\n",
      "Axis 2 size :  4\n"
     ]
    }
   ],
   "source": [
    "#Get Dimensions of a 3D numpy array using numpy.size()\n",
    "# Create a 3D Numpy array list of list of list\n",
    "arr3D = np.array([ [[11, 12, 13, 11], [21, 22, 23, 24], [31, 32, 33, 34]],\n",
    "                 [[1, 1, 1, 1], [2, 2, 2, 2], [3, 3, 3, 3]] ])\n",
    "print(arr3D)\n",
    "\n",
    "#get number of elements per axis in 3D numpy array i.e.\n",
    "print('Axis 0 size : ', np.size(arr3D, 0))\n",
    "print('Axis 1 size : ', np.size(arr3D, 1))\n",
    "print('Axis 2 size : ', np.size(arr3D, 2))\n"
   ]
  },
  {
   "cell_type": "markdown",
   "metadata": {
    "id": "SD4wALlLoxYz"
   },
   "source": [
    "#Selecting elements from Numpy Array\n",
    "\n",
    "Select element or sub array by index from numpy array\n",
    "\n",
    "Select rows / columns by index from a 2D numpy array\n"
   ]
  },
  {
   "cell_type": "code",
   "execution_count": 64,
   "metadata": {
    "id": "Aa8f3-jz4nSA"
   },
   "outputs": [],
   "source": [
    "# http://playground.tensorflow.org/#activation=tanh&batchSize=10&dataset=circle&regDataset=reg-plane&learningRate=0.03&regularizationRate=0&noise=0&networkShape=4,2&seed=0.52744&showTestData=false&discretize=false&percTrainData=50&x=true&y=true&xTimesY=false&xSquared=false&ySquared=false&cosX=false&sinX=false&cosY=false&sinY=false&collectStats=false&problem=classification&initZero=false&hideText=false"
   ]
  },
  {
   "cell_type": "code",
   "execution_count": 65,
   "metadata": {
    "colab": {
     "base_uri": "https://localhost:8080/"
    },
    "executionInfo": {
     "elapsed": 1189,
     "status": "ok",
     "timestamp": 1616487454120,
     "user": {
      "displayName": "Vijay Bhagwat",
      "photoUrl": "https://lh3.googleusercontent.com/a-/AOh14GjvOC2nPcN5TxFs3HomoPmr8m32ajw-l0UWMrex_A=s64",
      "userId": "00341087335317291686"
     },
     "user_tz": -330
    },
    "id": "60w63t3U6hEG",
    "outputId": "924b4eee-0857-4335-810c-47ae57a6131b"
   },
   "outputs": [
    {
     "name": "stdout",
     "output_type": "stream",
     "text": [
      "[ 1  3  5  7  9 11 13 15 17 19]\n",
      "Element at 2nd index  :  5\n",
      "element from 2nd index to end : [ 5  7  9 11 13 15 17 19]\n",
      "[ 5  7  9 11 13 15 17 19]\n",
      "elements from index 1 to 6:  [ 3  5  7  9 11 13]\n"
     ]
    }
   ],
   "source": [
    "# Select an element or sub array by index from a Numpy Array\n",
    "# Let’s create a Numpy Array using numpy.arange()\n",
    "import numpy as np\n",
    "npArray = np.arange(1, 20, 2)\n",
    "print(npArray)\n",
    "\n",
    "# To select an element from Numpy Array , we can use [] operator i.e.\n",
    "# ndarray[index]\n",
    "\n",
    "# Select an element at index 2 (Index starts from 0)\n",
    "elem = npArray[2]\n",
    "print('Element at 2nd index  : ' , elem)\n",
    "\n",
    "#Select elements from beginning to index 3\n",
    "subArray = npArray[:4]\n",
    "\n",
    "#Select elements from 2nd index to end\n",
    "subArray = npArray[2 : ]\n",
    "print('element from 2nd index to end :' , subArray)\n",
    "print(subArray)\n",
    "#We can also select a sub array from Numpy Array using [] operator i.e.\n",
    "# ndArray[first:last]\n",
    "\n",
    "# Select elements from index 1 to 6\n",
    "subArray = npArray[1:7]\n",
    "print('elements from index 1 to 6: ' , subArray)"
   ]
  },
  {
   "cell_type": "code",
   "execution_count": 66,
   "metadata": {
    "id": "To9nrUIkWt9Z"
   },
   "outputs": [],
   "source": [
    "# Select rows / columns by index from a 2D Numpy Array "
   ]
  },
  {
   "cell_type": "code",
   "execution_count": 67,
   "metadata": {
    "colab": {
     "base_uri": "https://localhost:8080/"
    },
    "executionInfo": {
     "elapsed": 1097,
     "status": "ok",
     "timestamp": 1616499990963,
     "user": {
      "displayName": "Vijay Bhagwat",
      "photoUrl": "https://lh3.googleusercontent.com/a-/AOh14GjvOC2nPcN5TxFs3HomoPmr8m32ajw-l0UWMrex_A=s64",
      "userId": "00341087335317291686"
     },
     "user_tz": -330
    },
    "id": "Fz9JEsh1W6IP",
    "outputId": "85767529-732d-48c7-f44a-9ae8ce3f282f"
   },
   "outputs": [
    {
     "name": "stdout",
     "output_type": "stream",
     "text": [
      "[[21 22 23]\n",
      " [11 22 33]\n",
      " [43 77 89]]\n",
      "element at row index 1 & column index 2 is :  33\n",
      "element at row index 1 & column index 2 is :  33\n"
     ]
    }
   ],
   "source": [
    "#create a 2d Numpy Array by passing a list of lists to numpy.array()\n",
    "# Create a 2D Numpy adArray with 3 rows & 3 columns | Matrix\n",
    "nArr2D = np.array(([21, 22, 23], [11, 22, 33], [43, 77, 89]))\n",
    "print(nArr2D)\n",
    "# to Select a single element from 2D Numpy Array by index\n",
    "# ndArray[row_index][column_index]\n",
    "\n",
    "# Select element at row index 1 & column index 2\n",
    "num = nArr2D[1][2]\n",
    "print('element at row index 1 & column index 2 is : ' , num)\n",
    "# OR cooma separated \n",
    "num = nArr2D[1, 2]\n",
    "print('element at row index 1 & column index 2 is : ', num)\n"
   ]
  },
  {
   "cell_type": "code",
   "execution_count": 68,
   "metadata": {
    "colab": {
     "base_uri": "https://localhost:8080/"
    },
    "executionInfo": {
     "elapsed": 964,
     "status": "ok",
     "timestamp": 1616491401095,
     "user": {
      "displayName": "Vijay Bhagwat",
      "photoUrl": "https://lh3.googleusercontent.com/a-/AOh14GjvOC2nPcN5TxFs3HomoPmr8m32ajw-l0UWMrex_A=s64",
      "userId": "00341087335317291686"
     },
     "user_tz": -330
    },
    "id": "VUTirOhRYiPb",
    "outputId": "883649da-5139-4b22-f190-e6184be2fe46"
   },
   "outputs": [
    {
     "name": "stdout",
     "output_type": "stream",
     "text": [
      "[[21 22 23]\n",
      " [11 22 33]\n",
      " [43 77 89]]\n",
      "Contents of Row at Index 1 :  [11 22 33]\n",
      "Rows from Index 1 to 2 : [[11 22 33]\n",
      " [43 77 89]]\n"
     ]
    }
   ],
   "source": [
    "#Select Rows by Index from a 2D Numpy Array\n",
    "#We can call [] operator to select a single or multiple row. To select a single row use,\n",
    "# ndArray[row_index]\n",
    "\n",
    "#To select multiple rows use,\n",
    "# ndArray[start_index: end_index ,  :]\n",
    "\n",
    "nArr2D = np.array(([21, 22, 23], [11, 22, 33], [43, 77, 89]))\n",
    "print(nArr2D)\n",
    "\n",
    "# Select a Row at index 1\n",
    "row = nArr2D[1]\n",
    "print('Contents of Row at Index 1 : ' , row)\n",
    "\n",
    "# Select multiple rows from index 1 to 2\n",
    "rows = nArr2D[1:3, :]\n",
    "print('Rows from Index 1 to 2 :' , rows)"
   ]
  },
  {
   "cell_type": "code",
   "execution_count": 69,
   "metadata": {
    "id": "m5VetFU_Zq5-"
   },
   "outputs": [
    {
     "ename": "SyntaxError",
     "evalue": "invalid syntax (<ipython-input-69-7f233bcb0cba>, line 1)",
     "output_type": "error",
     "traceback": [
      "\u001b[1;36m  File \u001b[1;32m\"<ipython-input-69-7f233bcb0cba>\"\u001b[1;36m, line \u001b[1;32m1\u001b[0m\n\u001b[1;33m    Select Columns by Index from a 2D Numpy Array\u001b[0m\n\u001b[1;37m           ^\u001b[0m\n\u001b[1;31mSyntaxError\u001b[0m\u001b[1;31m:\u001b[0m invalid syntax\n"
     ]
    }
   ],
   "source": [
    "Select Columns by Index from a 2D Numpy Array\n",
    "To select a single column use,\n",
    "#ndArray[ : , column_index]\n",
    "\n",
    "\n",
    "To select multiple columns use,\n",
    "#ndArray[ : , start_index: end_index]"
   ]
  },
  {
   "cell_type": "code",
   "execution_count": 70,
   "metadata": {
    "id": "noT-7ZUXZCGJ"
   },
   "outputs": [
    {
     "name": "stdout",
     "output_type": "stream",
     "text": [
      "[[21 22 23]\n",
      " [11 22 33]\n",
      " [43 77 89]]\n",
      "Contents of Column at Index 1 :  [22 22 77]\n",
      "Column from Index 1 to 2 :\n",
      "[[22 23]\n",
      " [22 33]\n",
      " [77 89]]\n",
      "[[22 23]\n",
      " [22 33]\n",
      " [77 89]]\n"
     ]
    }
   ],
   "source": [
    "nArr2D = np.array(([21, 22, 23], [11, 22, 33], [43, 77, 89]))\n",
    "print(nArr2D)\n",
    "\n",
    "# Select a column at index 1\n",
    "column = nArr2D[:, 1]\n",
    "print('Contents of Column at Index 1 : ', column)\n",
    "\n",
    "# Select multiple columns from index 1 to 2\n",
    "columns = nArr2D[: , 1:3]\n",
    "print('Column from Index 1 to 2 :')\n",
    "print(columns)\n",
    "\n",
    "# Select multiple columns from index 1 to last index\n",
    "columns = nArr2D[:, 1:]\n",
    "print(columns)"
   ]
  },
  {
   "cell_type": "code",
   "execution_count": 71,
   "metadata": {
    "id": "-_na0vAnkV09"
   },
   "outputs": [
    {
     "ename": "SyntaxError",
     "evalue": "invalid syntax (<ipython-input-71-7c5b2cc7ff6f>, line 1)",
     "output_type": "error",
     "traceback": [
      "\u001b[1;36m  File \u001b[1;32m\"<ipython-input-71-7c5b2cc7ff6f>\"\u001b[1;36m, line \u001b[1;32m1\u001b[0m\n\u001b[1;33m    Select a Sub Matrix or 2d Numpy Array from another 2D Numpy Array\u001b[0m\n\u001b[1;37m           ^\u001b[0m\n\u001b[1;31mSyntaxError\u001b[0m\u001b[1;31m:\u001b[0m invalid syntax\n"
     ]
    }
   ],
   "source": [
    "Select a Sub Matrix or 2d Numpy Array from another 2D Numpy Array\n",
    "To select sub 2d Numpy Array we can pass the row & column index range in [] operator i.e.\n",
    "ndArray[start_row_index : end_row_index , start_column_index : end_column_index]\n",
    "\n",
    "It will return a sub 2D Numpy Array for given row and column range.\n"
   ]
  },
  {
   "cell_type": "code",
   "execution_count": 72,
   "metadata": {
    "colab": {
     "base_uri": "https://localhost:8080/"
    },
    "executionInfo": {
     "elapsed": 967,
     "status": "ok",
     "timestamp": 1616494788446,
     "user": {
      "displayName": "Vijay Bhagwat",
      "photoUrl": "https://lh3.googleusercontent.com/a-/AOh14GjvOC2nPcN5TxFs3HomoPmr8m32ajw-l0UWMrex_A=s64",
      "userId": "00341087335317291686"
     },
     "user_tz": -330
    },
    "id": "jcB8dS1alSss",
    "outputId": "a7dbea1f-2d46-4cde-aef5-bd6d6a54279b"
   },
   "outputs": [
    {
     "name": "stdout",
     "output_type": "stream",
     "text": [
      "numpy array : [[21 22 23]\n",
      " [11 22 33]\n",
      " [43 77 89]]\n",
      "Sub 2d Array :\n",
      "[[22 33]\n",
      " [77 89]]\n",
      "[11 22 33]\n",
      "[100 100 100]\n"
     ]
    }
   ],
   "source": [
    "nArr2D = np.array(([21, 22, 23], [11, 22, 33], [43, 77, 89]))\n",
    "print('numpy array :' , nArr2D)\n",
    "\n",
    "# Select a sub 2D array from row indices 1 to 2 & column indices 1 to 2\n",
    "sub2DArr = nArr2D[1:3, 1:3]\n",
    "print('Sub 2d Array :')\n",
    "print(sub2DArr)\n",
    "\n",
    "\n",
    "# Select row at index 1 from 2D array\n",
    "row = nArr2D[1]\n",
    "print(row)\n",
    "\n",
    "# Change all the elements in selected sub array to 100\n",
    "row[:] = 100\n",
    "print(row)"
   ]
  },
  {
   "cell_type": "code",
   "execution_count": 74,
   "metadata": {
    "id": "ySZqd0vEmeaZ"
   },
   "outputs": [],
   "source": [
    "#ndarray.copy() : to the copy instead of view in sub array use copy() function."
   ]
  },
  {
   "cell_type": "code",
   "execution_count": 75,
   "metadata": {
    "colab": {
     "base_uri": "https://localhost:8080/"
    },
    "executionInfo": {
     "elapsed": 1510,
     "status": "ok",
     "timestamp": 1616494966053,
     "user": {
      "displayName": "Vijay Bhagwat",
      "photoUrl": "https://lh3.googleusercontent.com/a-/AOh14GjvOC2nPcN5TxFs3HomoPmr8m32ajw-l0UWMrex_A=s64",
      "userId": "00341087335317291686"
     },
     "user_tz": -330
    },
    "id": "J7fNvovEmnhH",
    "outputId": "f84275b1-e02d-4a8b-c69a-4bf93d4f10e5"
   },
   "outputs": [
    {
     "name": "stdout",
     "output_type": "stream",
     "text": [
      "[[21 22 23]\n",
      " [11 22 33]\n",
      " [43 77 89]]\n",
      "[43 77 89]\n"
     ]
    }
   ],
   "source": [
    "nArr2D = np.array(([21, 22, 23], [11, 22, 33], [43, 77, 89]))\n",
    "print(nArr2D)\n",
    "\n",
    "# Select a copy of row at index 1 from 2D array\n",
    "row = nArr2D[2].copy()\n",
    "print(row)"
   ]
  },
  {
   "cell_type": "code",
   "execution_count": 77,
   "metadata": {
    "id": "2yr8B1CsnpT3"
   },
   "outputs": [
    {
     "data": {
      "text/plain": [
       "'numpy.delete(arr, obj, axis=None)\\nArguments:\\n\\narr : Numpy array from which elements needs to be deleted.\\nobj : Index position or list of index positions of items to be deleted from numpy array arr.\\naxis : Axis along which we want to delete.\\nIf 1 then delete columns.\\nIf 0 then delete rows.\\nIf None then flatten the array and then apply delete on it.'"
      ]
     },
     "execution_count": 77,
     "metadata": {},
     "output_type": "execute_result"
    }
   ],
   "source": [
    "# command : np.delete(): Remove items/rows/columns from Numpy Array\n",
    "# a method to delete elements from a numpy array based on index position \n",
    "'''numpy.delete(arr, obj, axis=None)\n",
    "Arguments:\n",
    "\n",
    "arr : Numpy array from which elements needs to be deleted.\n",
    "obj : Index position or list of index positions of items to be deleted from numpy array arr.\n",
    "axis : Axis along which we want to delete.\n",
    "If 1 then delete columns.\n",
    "If 0 then delete rows.\n",
    "If None then flatten the array and then apply delete on it.'''"
   ]
  },
  {
   "cell_type": "code",
   "execution_count": 78,
   "metadata": {
    "colab": {
     "base_uri": "https://localhost:8080/"
    },
    "executionInfo": {
     "elapsed": 1051,
     "status": "ok",
     "timestamp": 1616495511480,
     "user": {
      "displayName": "Vijay Bhagwat",
      "photoUrl": "https://lh3.googleusercontent.com/a-/AOh14GjvOC2nPcN5TxFs3HomoPmr8m32ajw-l0UWMrex_A=s64",
      "userId": "00341087335317291686"
     },
     "user_tz": -330
    },
    "id": "CmffHfE8oK_Y",
    "outputId": "35b4d8f5-ef46-4b9e-e77c-7b6f86e6dd58"
   },
   "outputs": [
    {
     "name": "stdout",
     "output_type": "stream",
     "text": [
      "[ 4  5  6  7  8  9 10 11]\n",
      "Modified Numpy Array by deleting element at index position 2\n",
      "[ 4  5  7  8  9 10 11]\n",
      "Modified Numpy Array by deleting element at index position 1, 2 &amp; 3\n",
      "[ 4  9 10 11]\n"
     ]
    }
   ],
   "source": [
    "# Create a Numpy array from list of numbers\n",
    "arr = np.array([4,5,6,7,8,9,10,11])\n",
    "print(arr)\n",
    "#delete an element at index position 2 in the above created numpy array,\n",
    "\n",
    "# Delete element at index position 2\n",
    "arr = np.delete(arr, 2)\n",
    "print('Modified Numpy Array by deleting element at index position 2')\n",
    "print(arr)\n",
    "\n",
    "#Delete element at index positions 1,2 and 3\n",
    "arr = np.delete(arr, [1,2,3])         # To delete multiple element \n",
    "print('Modified Numpy Array by deleting element at index position 1, 2 &amp; 3')\n",
    "print(arr)"
   ]
  },
  {
   "cell_type": "code",
   "execution_count": 79,
   "metadata": {
    "id": "qe_wZWljqkR5"
   },
   "outputs": [
    {
     "ename": "SyntaxError",
     "evalue": "invalid syntax (<ipython-input-79-898a244a6838>, line 1)",
     "output_type": "error",
     "traceback": [
      "\u001b[1;36m  File \u001b[1;32m\"<ipython-input-79-898a244a6838>\"\u001b[1;36m, line \u001b[1;32m1\u001b[0m\n\u001b[1;33m    numpy.ndarray.sort() :\u001b[0m\n\u001b[1;37m                           ^\u001b[0m\n\u001b[1;31mSyntaxError\u001b[0m\u001b[1;31m:\u001b[0m invalid syntax\n"
     ]
    }
   ],
   "source": [
    "numpy.ndarray.sort() : \n",
    "numpy.sort()\n",
    "Another one is a global function in numpy module i.e.\n",
    "numpy.sort(array, axis=-1, kind='quicksort', order=None)\n",
    "\n",
    "It accepts a numpy array as an argument and returns a sorted copy of Numpy array.\n",
    "Important Arguments in both the above functions are,\n",
    "\n",
    "axis: Axis along which it needs to sort. Default value is -1 i.e. the last axis\n",
    "kind: Type of sorting algorithm to be used. Values can be ‘mergesort’, ‘heapsort’, ‘stable’ and ‘quicksort’\n",
    "order: Udes in Structured Numpy array. Can be a single column name or list of column names along which sorting needs to be done."
   ]
  },
  {
   "cell_type": "code",
   "execution_count": 80,
   "metadata": {
    "colab": {
     "base_uri": "https://localhost:8080/"
    },
    "executionInfo": {
     "elapsed": 1011,
     "status": "ok",
     "timestamp": 1616495999932,
     "user": {
      "displayName": "Vijay Bhagwat",
      "photoUrl": "https://lh3.googleusercontent.com/a-/AOh14GjvOC2nPcN5TxFs3HomoPmr8m32ajw-l0UWMrex_A=s64",
      "userId": "00341087335317291686"
     },
     "user_tz": -330
    },
    "id": "Sf8Pq2vSqz0p",
    "outputId": "ef4fca1b-e1ca-4eed-d70f-8f9abc58a01c"
   },
   "outputs": [
    {
     "name": "stdout",
     "output_type": "stream",
     "text": [
      "Sorted Array :  [ 1  2  2  3  4  4  6  8  9 11 18]\n"
     ]
    }
   ],
   "source": [
    "# Create a Numpy array from list of numbers\n",
    "arr = np.array([6, 1, 4, 2, 18, 9, 3, 4, 2, 8, 11])\n",
    "\n",
    "# Sort the numpy array inplace\n",
    "arr.sort()\n",
    "print('Sorted Array : ', arr)"
   ]
  },
  {
   "cell_type": "code",
   "execution_count": 81,
   "metadata": {
    "colab": {
     "base_uri": "https://localhost:8080/"
    },
    "executionInfo": {
     "elapsed": 1915,
     "status": "ok",
     "timestamp": 1616496129364,
     "user": {
      "displayName": "Vijay Bhagwat",
      "photoUrl": "https://lh3.googleusercontent.com/a-/AOh14GjvOC2nPcN5TxFs3HomoPmr8m32ajw-l0UWMrex_A=s64",
      "userId": "00341087335317291686"
     },
     "user_tz": -330
    },
    "id": "y_IiwThUrOdg",
    "outputId": "c4c38361-78b7-418c-8191-4108d63e46d5"
   },
   "outputs": [
    {
     "name": "stdout",
     "output_type": "stream",
     "text": [
      "[ 6  1  4  2 18  9  3  4  2  8 11]\n",
      "Sorted Array in Descending Order:  [18 11  9  8  6  4  4  3  2  2  1]\n"
     ]
    }
   ],
   "source": [
    "# to sort a numpy array in descending order we need to sort it and then use [::-1] to reverse the sorted array.\n",
    "arr = np.array([6, 1, 4, 2, 18, 9, 3, 4, 2, 8, 11])\n",
    "print(arr)\n",
    "# Get a sorted copy of numpy array (Descending Order)\n",
    "arr = np.sort(arr)[::-1]\n",
    "print('Sorted Array in Descending Order: ', arr)\n"
   ]
  },
  {
   "cell_type": "code",
   "execution_count": 82,
   "metadata": {
    "colab": {
     "base_uri": "https://localhost:8080/"
    },
    "executionInfo": {
     "elapsed": 1085,
     "status": "ok",
     "timestamp": 1616500075316,
     "user": {
      "displayName": "Vijay Bhagwat",
      "photoUrl": "https://lh3.googleusercontent.com/a-/AOh14GjvOC2nPcN5TxFs3HomoPmr8m32ajw-l0UWMrex_A=s64",
      "userId": "00341087335317291686"
     },
     "user_tz": -330
    },
    "id": "MNyGtLE7xgqq",
    "outputId": "37693c1f-b318-40e5-9ab9-10a42950e0d0"
   },
   "outputs": [
    {
     "data": {
      "text/plain": [
       "['ALLOW_THREADS',\n",
       " 'AxisError',\n",
       " 'BUFSIZE',\n",
       " 'Bytes0',\n",
       " 'CLIP',\n",
       " 'ComplexWarning',\n",
       " 'DataSource',\n",
       " 'Datetime64',\n",
       " 'ERR_CALL',\n",
       " 'ERR_DEFAULT',\n",
       " 'ERR_IGNORE',\n",
       " 'ERR_LOG',\n",
       " 'ERR_PRINT',\n",
       " 'ERR_RAISE',\n",
       " 'ERR_WARN',\n",
       " 'FLOATING_POINT_SUPPORT',\n",
       " 'FPE_DIVIDEBYZERO',\n",
       " 'FPE_INVALID',\n",
       " 'FPE_OVERFLOW',\n",
       " 'FPE_UNDERFLOW',\n",
       " 'False_',\n",
       " 'Inf',\n",
       " 'Infinity',\n",
       " 'MAXDIMS',\n",
       " 'MAY_SHARE_BOUNDS',\n",
       " 'MAY_SHARE_EXACT',\n",
       " 'MachAr',\n",
       " 'ModuleDeprecationWarning',\n",
       " 'NAN',\n",
       " 'NINF',\n",
       " 'NZERO',\n",
       " 'NaN',\n",
       " 'PINF',\n",
       " 'PZERO',\n",
       " 'RAISE',\n",
       " 'RankWarning',\n",
       " 'SHIFT_DIVIDEBYZERO',\n",
       " 'SHIFT_INVALID',\n",
       " 'SHIFT_OVERFLOW',\n",
       " 'SHIFT_UNDERFLOW',\n",
       " 'ScalarType',\n",
       " 'Str0',\n",
       " 'Tester',\n",
       " 'TooHardError',\n",
       " 'True_',\n",
       " 'UFUNC_BUFSIZE_DEFAULT',\n",
       " 'UFUNC_PYVALS_NAME',\n",
       " 'Uint64',\n",
       " 'VisibleDeprecationWarning',\n",
       " 'WRAP',\n",
       " '_NoValue',\n",
       " '_UFUNC_API',\n",
       " '__NUMPY_SETUP__',\n",
       " '__all__',\n",
       " '__builtins__',\n",
       " '__cached__',\n",
       " '__config__',\n",
       " '__deprecated_attrs__',\n",
       " '__dir__',\n",
       " '__doc__',\n",
       " '__expired_functions__',\n",
       " '__file__',\n",
       " '__getattr__',\n",
       " '__git_revision__',\n",
       " '__loader__',\n",
       " '__mkl_version__',\n",
       " '__name__',\n",
       " '__package__',\n",
       " '__path__',\n",
       " '__spec__',\n",
       " '__version__',\n",
       " '_add_newdoc_ufunc',\n",
       " '_distributor_init',\n",
       " '_financial_names',\n",
       " '_globals',\n",
       " '_mat',\n",
       " '_pytesttester',\n",
       " 'abs',\n",
       " 'absolute',\n",
       " 'add',\n",
       " 'add_docstring',\n",
       " 'add_newdoc',\n",
       " 'add_newdoc_ufunc',\n",
       " 'alen',\n",
       " 'all',\n",
       " 'allclose',\n",
       " 'alltrue',\n",
       " 'amax',\n",
       " 'amin',\n",
       " 'angle',\n",
       " 'any',\n",
       " 'append',\n",
       " 'apply_along_axis',\n",
       " 'apply_over_axes',\n",
       " 'arange',\n",
       " 'arccos',\n",
       " 'arccosh',\n",
       " 'arcsin',\n",
       " 'arcsinh',\n",
       " 'arctan',\n",
       " 'arctan2',\n",
       " 'arctanh',\n",
       " 'argmax',\n",
       " 'argmin',\n",
       " 'argpartition',\n",
       " 'argsort',\n",
       " 'argwhere',\n",
       " 'around',\n",
       " 'array',\n",
       " 'array2string',\n",
       " 'array_equal',\n",
       " 'array_equiv',\n",
       " 'array_repr',\n",
       " 'array_split',\n",
       " 'array_str',\n",
       " 'asanyarray',\n",
       " 'asarray',\n",
       " 'asarray_chkfinite',\n",
       " 'ascontiguousarray',\n",
       " 'asfarray',\n",
       " 'asfortranarray',\n",
       " 'asmatrix',\n",
       " 'asscalar',\n",
       " 'atleast_1d',\n",
       " 'atleast_2d',\n",
       " 'atleast_3d',\n",
       " 'average',\n",
       " 'bartlett',\n",
       " 'base_repr',\n",
       " 'binary_repr',\n",
       " 'bincount',\n",
       " 'bitwise_and',\n",
       " 'bitwise_not',\n",
       " 'bitwise_or',\n",
       " 'bitwise_xor',\n",
       " 'blackman',\n",
       " 'block',\n",
       " 'bmat',\n",
       " 'bool8',\n",
       " 'bool_',\n",
       " 'broadcast',\n",
       " 'broadcast_arrays',\n",
       " 'broadcast_shapes',\n",
       " 'broadcast_to',\n",
       " 'busday_count',\n",
       " 'busday_offset',\n",
       " 'busdaycalendar',\n",
       " 'byte',\n",
       " 'byte_bounds',\n",
       " 'bytes0',\n",
       " 'bytes_',\n",
       " 'c_',\n",
       " 'can_cast',\n",
       " 'cast',\n",
       " 'cbrt',\n",
       " 'cdouble',\n",
       " 'ceil',\n",
       " 'cfloat',\n",
       " 'char',\n",
       " 'character',\n",
       " 'chararray',\n",
       " 'choose',\n",
       " 'clip',\n",
       " 'clongdouble',\n",
       " 'clongfloat',\n",
       " 'column_stack',\n",
       " 'common_type',\n",
       " 'compare_chararrays',\n",
       " 'compat',\n",
       " 'complex128',\n",
       " 'complex64',\n",
       " 'complex_',\n",
       " 'complexfloating',\n",
       " 'compress',\n",
       " 'concatenate',\n",
       " 'conj',\n",
       " 'conjugate',\n",
       " 'convolve',\n",
       " 'copy',\n",
       " 'copysign',\n",
       " 'copyto',\n",
       " 'core',\n",
       " 'corrcoef',\n",
       " 'correlate',\n",
       " 'cos',\n",
       " 'cosh',\n",
       " 'count_nonzero',\n",
       " 'cov',\n",
       " 'cross',\n",
       " 'csingle',\n",
       " 'ctypeslib',\n",
       " 'cumprod',\n",
       " 'cumproduct',\n",
       " 'cumsum',\n",
       " 'datetime64',\n",
       " 'datetime_as_string',\n",
       " 'datetime_data',\n",
       " 'deg2rad',\n",
       " 'degrees',\n",
       " 'delete',\n",
       " 'deprecate',\n",
       " 'deprecate_with_doc',\n",
       " 'diag',\n",
       " 'diag_indices',\n",
       " 'diag_indices_from',\n",
       " 'diagflat',\n",
       " 'diagonal',\n",
       " 'diff',\n",
       " 'digitize',\n",
       " 'disp',\n",
       " 'divide',\n",
       " 'divmod',\n",
       " 'dot',\n",
       " 'double',\n",
       " 'dsplit',\n",
       " 'dstack',\n",
       " 'dtype',\n",
       " 'e',\n",
       " 'ediff1d',\n",
       " 'einsum',\n",
       " 'einsum_path',\n",
       " 'emath',\n",
       " 'empty',\n",
       " 'empty_like',\n",
       " 'equal',\n",
       " 'errstate',\n",
       " 'euler_gamma',\n",
       " 'exp',\n",
       " 'exp2',\n",
       " 'expand_dims',\n",
       " 'expm1',\n",
       " 'extract',\n",
       " 'eye',\n",
       " 'fabs',\n",
       " 'fastCopyAndTranspose',\n",
       " 'fft',\n",
       " 'fill_diagonal',\n",
       " 'find_common_type',\n",
       " 'finfo',\n",
       " 'fix',\n",
       " 'flatiter',\n",
       " 'flatnonzero',\n",
       " 'flexible',\n",
       " 'flip',\n",
       " 'fliplr',\n",
       " 'flipud',\n",
       " 'float16',\n",
       " 'float32',\n",
       " 'float64',\n",
       " 'float_',\n",
       " 'float_power',\n",
       " 'floating',\n",
       " 'floor',\n",
       " 'floor_divide',\n",
       " 'fmax',\n",
       " 'fmin',\n",
       " 'fmod',\n",
       " 'format_float_positional',\n",
       " 'format_float_scientific',\n",
       " 'format_parser',\n",
       " 'frexp',\n",
       " 'frombuffer',\n",
       " 'fromfile',\n",
       " 'fromfunction',\n",
       " 'fromiter',\n",
       " 'frompyfunc',\n",
       " 'fromregex',\n",
       " 'fromstring',\n",
       " 'full',\n",
       " 'full_like',\n",
       " 'gcd',\n",
       " 'generic',\n",
       " 'genfromtxt',\n",
       " 'geomspace',\n",
       " 'get_array_wrap',\n",
       " 'get_include',\n",
       " 'get_printoptions',\n",
       " 'getbufsize',\n",
       " 'geterr',\n",
       " 'geterrcall',\n",
       " 'geterrobj',\n",
       " 'gradient',\n",
       " 'greater',\n",
       " 'greater_equal',\n",
       " 'half',\n",
       " 'hamming',\n",
       " 'hanning',\n",
       " 'heaviside',\n",
       " 'histogram',\n",
       " 'histogram2d',\n",
       " 'histogram_bin_edges',\n",
       " 'histogramdd',\n",
       " 'hsplit',\n",
       " 'hstack',\n",
       " 'hypot',\n",
       " 'i0',\n",
       " 'identity',\n",
       " 'iinfo',\n",
       " 'imag',\n",
       " 'in1d',\n",
       " 'index_exp',\n",
       " 'indices',\n",
       " 'inexact',\n",
       " 'inf',\n",
       " 'info',\n",
       " 'infty',\n",
       " 'inner',\n",
       " 'insert',\n",
       " 'int0',\n",
       " 'int16',\n",
       " 'int32',\n",
       " 'int64',\n",
       " 'int8',\n",
       " 'int_',\n",
       " 'intc',\n",
       " 'integer',\n",
       " 'interp',\n",
       " 'intersect1d',\n",
       " 'intp',\n",
       " 'invert',\n",
       " 'is_busday',\n",
       " 'isclose',\n",
       " 'iscomplex',\n",
       " 'iscomplexobj',\n",
       " 'isfinite',\n",
       " 'isfortran',\n",
       " 'isin',\n",
       " 'isinf',\n",
       " 'isnan',\n",
       " 'isnat',\n",
       " 'isneginf',\n",
       " 'isposinf',\n",
       " 'isreal',\n",
       " 'isrealobj',\n",
       " 'isscalar',\n",
       " 'issctype',\n",
       " 'issubclass_',\n",
       " 'issubdtype',\n",
       " 'issubsctype',\n",
       " 'iterable',\n",
       " 'ix_',\n",
       " 'kaiser',\n",
       " 'kron',\n",
       " 'lcm',\n",
       " 'ldexp',\n",
       " 'left_shift',\n",
       " 'less',\n",
       " 'less_equal',\n",
       " 'lexsort',\n",
       " 'lib',\n",
       " 'linalg',\n",
       " 'linspace',\n",
       " 'little_endian',\n",
       " 'load',\n",
       " 'loads',\n",
       " 'loadtxt',\n",
       " 'log',\n",
       " 'log10',\n",
       " 'log1p',\n",
       " 'log2',\n",
       " 'logaddexp',\n",
       " 'logaddexp2',\n",
       " 'logical_and',\n",
       " 'logical_not',\n",
       " 'logical_or',\n",
       " 'logical_xor',\n",
       " 'logspace',\n",
       " 'longcomplex',\n",
       " 'longdouble',\n",
       " 'longfloat',\n",
       " 'longlong',\n",
       " 'lookfor',\n",
       " 'ma',\n",
       " 'mafromtxt',\n",
       " 'mask_indices',\n",
       " 'mat',\n",
       " 'math',\n",
       " 'matmul',\n",
       " 'matrix',\n",
       " 'matrixlib',\n",
       " 'max',\n",
       " 'maximum',\n",
       " 'maximum_sctype',\n",
       " 'may_share_memory',\n",
       " 'mean',\n",
       " 'median',\n",
       " 'memmap',\n",
       " 'meshgrid',\n",
       " 'mgrid',\n",
       " 'min',\n",
       " 'min_scalar_type',\n",
       " 'minimum',\n",
       " 'mintypecode',\n",
       " 'mkl',\n",
       " 'mod',\n",
       " 'modf',\n",
       " 'moveaxis',\n",
       " 'msort',\n",
       " 'multiply',\n",
       " 'nan',\n",
       " 'nan_to_num',\n",
       " 'nanargmax',\n",
       " 'nanargmin',\n",
       " 'nancumprod',\n",
       " 'nancumsum',\n",
       " 'nanmax',\n",
       " 'nanmean',\n",
       " 'nanmedian',\n",
       " 'nanmin',\n",
       " 'nanpercentile',\n",
       " 'nanprod',\n",
       " 'nanquantile',\n",
       " 'nanstd',\n",
       " 'nansum',\n",
       " 'nanvar',\n",
       " 'nbytes',\n",
       " 'ndarray',\n",
       " 'ndenumerate',\n",
       " 'ndfromtxt',\n",
       " 'ndim',\n",
       " 'ndindex',\n",
       " 'nditer',\n",
       " 'negative',\n",
       " 'nested_iters',\n",
       " 'newaxis',\n",
       " 'nextafter',\n",
       " 'nonzero',\n",
       " 'not_equal',\n",
       " 'numarray',\n",
       " 'number',\n",
       " 'obj2sctype',\n",
       " 'object0',\n",
       " 'object_',\n",
       " 'ogrid',\n",
       " 'oldnumeric',\n",
       " 'ones',\n",
       " 'ones_like',\n",
       " 'os',\n",
       " 'outer',\n",
       " 'packbits',\n",
       " 'pad',\n",
       " 'partition',\n",
       " 'percentile',\n",
       " 'pi',\n",
       " 'piecewise',\n",
       " 'place',\n",
       " 'poly',\n",
       " 'poly1d',\n",
       " 'polyadd',\n",
       " 'polyder',\n",
       " 'polydiv',\n",
       " 'polyfit',\n",
       " 'polyint',\n",
       " 'polymul',\n",
       " 'polynomial',\n",
       " 'polysub',\n",
       " 'polyval',\n",
       " 'positive',\n",
       " 'power',\n",
       " 'printoptions',\n",
       " 'prod',\n",
       " 'product',\n",
       " 'promote_types',\n",
       " 'ptp',\n",
       " 'put',\n",
       " 'put_along_axis',\n",
       " 'putmask',\n",
       " 'quantile',\n",
       " 'r_',\n",
       " 'rad2deg',\n",
       " 'radians',\n",
       " 'random',\n",
       " 'ravel',\n",
       " 'ravel_multi_index',\n",
       " 'real',\n",
       " 'real_if_close',\n",
       " 'rec',\n",
       " 'recarray',\n",
       " 'recfromcsv',\n",
       " 'recfromtxt',\n",
       " 'reciprocal',\n",
       " 'record',\n",
       " 'remainder',\n",
       " 'repeat',\n",
       " 'require',\n",
       " 'reshape',\n",
       " 'resize',\n",
       " 'result_type',\n",
       " 'right_shift',\n",
       " 'rint',\n",
       " 'roll',\n",
       " 'rollaxis',\n",
       " 'roots',\n",
       " 'rot90',\n",
       " 'round',\n",
       " 'round_',\n",
       " 'row_stack',\n",
       " 's_',\n",
       " 'safe_eval',\n",
       " 'save',\n",
       " 'savetxt',\n",
       " 'savez',\n",
       " 'savez_compressed',\n",
       " 'sctype2char',\n",
       " 'sctypeDict',\n",
       " 'sctypes',\n",
       " 'searchsorted',\n",
       " 'select',\n",
       " 'set_numeric_ops',\n",
       " 'set_printoptions',\n",
       " 'set_string_function',\n",
       " 'setbufsize',\n",
       " 'setdiff1d',\n",
       " 'seterr',\n",
       " 'seterrcall',\n",
       " 'seterrobj',\n",
       " 'setxor1d',\n",
       " 'shape',\n",
       " 'shares_memory',\n",
       " 'short',\n",
       " 'show_config',\n",
       " 'sign',\n",
       " 'signbit',\n",
       " 'signedinteger',\n",
       " 'sin',\n",
       " 'sinc',\n",
       " 'single',\n",
       " 'singlecomplex',\n",
       " 'sinh',\n",
       " 'size',\n",
       " 'sometrue',\n",
       " 'sort',\n",
       " 'sort_complex',\n",
       " 'source',\n",
       " 'spacing',\n",
       " 'split',\n",
       " 'sqrt',\n",
       " 'square',\n",
       " 'squeeze',\n",
       " 'stack',\n",
       " 'std',\n",
       " 'str0',\n",
       " 'str_',\n",
       " 'string_',\n",
       " 'subtract',\n",
       " 'sum',\n",
       " 'swapaxes',\n",
       " 'sys',\n",
       " 'take',\n",
       " 'take_along_axis',\n",
       " 'tan',\n",
       " 'tanh',\n",
       " 'tensordot',\n",
       " 'test',\n",
       " 'testing',\n",
       " 'tile',\n",
       " 'timedelta64',\n",
       " 'trace',\n",
       " 'tracemalloc_domain',\n",
       " 'transpose',\n",
       " 'trapz',\n",
       " 'tri',\n",
       " 'tril',\n",
       " 'tril_indices',\n",
       " 'tril_indices_from',\n",
       " 'trim_zeros',\n",
       " 'triu',\n",
       " 'triu_indices',\n",
       " 'triu_indices_from',\n",
       " 'true_divide',\n",
       " 'trunc',\n",
       " 'typeDict',\n",
       " 'typecodes',\n",
       " 'typename',\n",
       " 'ubyte',\n",
       " 'ufunc',\n",
       " 'uint',\n",
       " 'uint0',\n",
       " 'uint16',\n",
       " 'uint32',\n",
       " 'uint64',\n",
       " 'uint8',\n",
       " 'uintc',\n",
       " 'uintp',\n",
       " 'ulonglong',\n",
       " 'unicode_',\n",
       " 'union1d',\n",
       " 'unique',\n",
       " 'unpackbits',\n",
       " 'unravel_index',\n",
       " 'unsignedinteger',\n",
       " 'unwrap',\n",
       " 'use_hugepage',\n",
       " 'ushort',\n",
       " 'vander',\n",
       " 'var',\n",
       " 'vdot',\n",
       " 'vectorize',\n",
       " 'version',\n",
       " 'void',\n",
       " 'void0',\n",
       " 'vsplit',\n",
       " 'vstack',\n",
       " 'warnings',\n",
       " 'where',\n",
       " 'who',\n",
       " 'zeros',\n",
       " 'zeros_like']"
      ]
     },
     "execution_count": 82,
     "metadata": {},
     "output_type": "execute_result"
    }
   ],
   "source": [
    "dir(np)"
   ]
  }
 ],
 "metadata": {
  "colab": {
   "authorship_tag": "ABX9TyOJiq7vLlxkHfAtzehtb4Sr",
   "collapsed_sections": [
    "FBhTL6nt7C16",
    "meFdjEOt7l72",
    "BIgMaFkUNcsN",
    "-87Hd63Pvwu0",
    "P5fNkutZCQJv",
    "G_IBx85VaIXo",
    "SD4wALlLoxYz"
   ],
   "name": "NUMPY NEW.ipynb",
   "provenance": []
  },
  "kernelspec": {
   "display_name": "Python 3",
   "language": "python",
   "name": "python3"
  },
  "language_info": {
   "codemirror_mode": {
    "name": "ipython",
    "version": 3
   },
   "file_extension": ".py",
   "mimetype": "text/x-python",
   "name": "python",
   "nbconvert_exporter": "python",
   "pygments_lexer": "ipython3",
   "version": "3.8.8"
  }
 },
 "nbformat": 4,
 "nbformat_minor": 1
}
